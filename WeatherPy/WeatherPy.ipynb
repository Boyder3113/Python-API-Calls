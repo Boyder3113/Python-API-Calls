{
 "cells": [
  {
   "cell_type": "markdown",
   "metadata": {},
   "source": [
    "# WeatherPy\n",
    "----\n",
    "\n",
    "#### Note\n",
    "* Instructions have been included for each segment. You do not have to follow them exactly, but they are included to help you think through the steps."
   ]
  },
  {
   "cell_type": "code",
   "execution_count": 14,
   "metadata": {
    "scrolled": true
   },
   "outputs": [],
   "source": [
    "# Dependencies and Setup\n",
    "import matplotlib.pyplot as plt\n",
    "import pandas as pd\n",
    "import numpy as np\n",
    "import requests\n",
    "import time\n",
    "from scipy.stats import linregress\n",
    "\n",
    "# Import API key\n",
    "from api_keys import weather_api_key\n",
    "\n",
    "# Incorporated citipy to determine city based on latitude and longitude\n",
    "from citipy import citipy\n",
    "\n",
    "# Output File (CSV)\n",
    "output_data_file = \"../output/cities.csv\"\n",
    "\n",
    "# Range of latitudes and longitudes\n",
    "lat_range = (-90, 90)\n",
    "lng_range = (-180, 180)"
   ]
  },
  {
   "cell_type": "markdown",
   "metadata": {},
   "source": [
    "## Generate Cities List"
   ]
  },
  {
   "cell_type": "code",
   "execution_count": 2,
   "metadata": {},
   "outputs": [
    {
     "data": {
      "text/plain": [
       "623"
      ]
     },
     "execution_count": 2,
     "metadata": {},
     "output_type": "execute_result"
    }
   ],
   "source": [
    "# List for holding lat_lngs and cities\n",
    "lat_lngs = []\n",
    "cities = []\n",
    "\n",
    "# Create a set of random lat and lng combinations\n",
    "lats = np.random.uniform(lat_range[0], lat_range[1], size=1500)\n",
    "lngs = np.random.uniform(lng_range[0], lng_range[1], size=1500)\n",
    "lat_lngs = zip(lats, lngs)\n",
    "\n",
    "# Identify nearest city for each lat, lng combination\n",
    "for lat_lng in lat_lngs:\n",
    "    city = citipy.nearest_city(lat_lng[0], lat_lng[1]).city_name\n",
    "    \n",
    "    # If the city is unique, then add it to a our cities list\n",
    "    if city not in cities:\n",
    "        cities.append(city)\n",
    "\n",
    "# Print the city count to confirm sufficient count\n",
    "len(cities)"
   ]
  },
  {
   "cell_type": "markdown",
   "metadata": {},
   "source": [
    "### Perform API Calls\n",
    "* Perform a weather check on each city using a series of successive API calls.\n",
    "* Include a print log of each city as it'sbeing processed (with the city number and city name).\n"
   ]
  },
  {
   "cell_type": "code",
   "execution_count": 3,
   "metadata": {
    "scrolled": true
   },
   "outputs": [
    {
     "name": "stdout",
     "output_type": "stream",
     "text": [
      "-----------------------------------------------------\n",
      "beginning Data Retrieval\n",
      "-----------------------------------------------------\n",
      "Data missing for inderborskiy, skipping...\n",
      "Processing City 2 | price\n",
      "Processing City 3 | tasiilaq\n",
      "Processing City 4 | puerto ayora\n",
      "Processing City 5 | bethel\n",
      "Processing City 6 | hilo\n",
      "Processing City 7 | qaanaaq\n",
      "Processing City 8 | hasaki\n",
      "Processing City 9 | yellowknife\n",
      "Processing City 10 | clyde river\n",
      "Processing City 11 | jasper\n",
      "Data missing for mys shmidta, skipping...\n",
      "Processing City 13 | hermanus\n",
      "Processing City 14 | ushuaia\n",
      "Processing City 15 | salalah\n",
      "Processing City 16 | cape town\n",
      "Processing City 17 | sao filipe\n",
      "Processing City 18 | banepa\n",
      "Processing City 19 | cidreira\n",
      "Processing City 20 | kirakira\n",
      "Processing City 21 | benito juarez\n",
      "Data missing for taolanaro, skipping...\n",
      "Processing City 23 | seoul\n",
      "Processing City 24 | qasigiannguit\n",
      "Processing City 25 | port alfred\n",
      "Processing City 26 | albany\n",
      "Processing City 27 | mar del plata\n",
      "Processing City 28 | toamasina\n",
      "Processing City 29 | georgetown\n",
      "Processing City 30 | rikitea\n",
      "Processing City 31 | tiksi\n",
      "Processing City 32 | butaritari\n",
      "Processing City 33 | nikolskoye\n",
      "Processing City 34 | farafangana\n",
      "Processing City 35 | pevek\n",
      "Processing City 36 | kabo\n",
      "Processing City 37 | great falls\n",
      "Processing City 38 | chumikan\n",
      "Processing City 39 | dunedin\n",
      "Processing City 40 | upernavik\n",
      "Processing City 41 | chuy\n",
      "Processing City 42 | mataura\n",
      "Processing City 43 | saint-philippe\n",
      "Data missing for stamsund, skipping...\n",
      "Processing City 45 | yalta\n",
      "Processing City 46 | sivas\n",
      "Data missing for maykain, skipping...\n",
      "Data missing for grand river south east, skipping...\n",
      "Processing City 49 | busselton\n",
      "Processing City 50 | punta arenas\n",
      "Processing City 51 | kapaa\n",
      "Processing City 52 | new norfolk\n",
      "Processing City 53 | hobart\n",
      "Processing City 54 | la tuque\n",
      "Processing City 55 | samut songkhram\n",
      "Processing City 56 | dikson\n",
      "Processing City 57 | mahebourg\n",
      "Processing City 58 | katsuura\n",
      "Processing City 59 | pochutla\n",
      "Processing City 60 | puerto baquerizo moreno\n",
      "Processing City 61 | iquique\n",
      "Processing City 62 | nanortalik\n",
      "Processing City 63 | praia da vitoria\n",
      "Processing City 64 | provideniya\n",
      "Processing City 65 | severo-kurilsk\n",
      "Processing City 66 | saskylakh\n",
      "Processing City 67 | kathmandu\n",
      "Processing City 68 | malayal\n",
      "Processing City 69 | andenes\n",
      "Data missing for naugarzan, skipping...\n",
      "Processing City 71 | barrow\n",
      "Processing City 72 | port elizabeth\n",
      "Data missing for alotau, skipping...\n",
      "Data missing for reefton, skipping...\n",
      "Processing City 75 | mikhaylov\n",
      "Processing City 76 | toora-khem\n",
      "Processing City 77 | antofagasta\n",
      "Processing City 78 | walvis bay\n",
      "Processing City 79 | kanniyakumari\n",
      "Processing City 80 | vardo\n",
      "Processing City 81 | pringsewu\n",
      "Processing City 82 | grand gaube\n",
      "Processing City 83 | padang\n",
      "Processing City 84 | vaini\n",
      "Processing City 85 | calvinia\n",
      "Processing City 86 | sao felix do xingu\n",
      "Processing City 87 | lebu\n",
      "Processing City 88 | ahipara\n",
      "Processing City 89 | san patricio\n",
      "Processing City 90 | poum\n",
      "Processing City 91 | jamestown\n",
      "Processing City 92 | codrington\n",
      "Processing City 93 | bathsheba\n",
      "Processing City 94 | mount isa\n",
      "Processing City 95 | saint george\n",
      "Processing City 96 | northam\n",
      "Processing City 97 | bluff\n",
      "Processing City 98 | victor harbor\n",
      "Processing City 99 | fuyu\n",
      "Processing City 100 | cabo san lucas\n",
      "Processing City 101 | lagoa\n",
      "Processing City 102 | lufilufi\n",
      "Processing City 103 | lazaro cardenas\n",
      "Processing City 104 | alihe\n",
      "Processing City 105 | bredasdorp\n",
      "Processing City 106 | brae\n",
      "Processing City 107 | mayor pablo lagerenza\n",
      "Processing City 108 | kaitangata\n",
      "Data missing for artyk, skipping...\n",
      "Processing City 110 | maragogi\n",
      "Processing City 111 | havre-saint-pierre\n",
      "Processing City 112 | cairo\n",
      "Processing City 113 | morros\n",
      "Processing City 114 | ilulissat\n",
      "Processing City 115 | zlitan\n",
      "Processing City 116 | puerto carreno\n",
      "Processing City 117 | pacific grove\n",
      "Processing City 118 | visby\n",
      "Processing City 119 | pisco\n",
      "Processing City 120 | saint charles\n",
      "Processing City 121 | turukhansk\n",
      "Processing City 122 | buala\n",
      "Processing City 123 | marawi\n",
      "Processing City 124 | rio de janeiro\n",
      "Data missing for attawapiskat, skipping...\n",
      "Processing City 126 | manicore\n",
      "Processing City 127 | tuktoyaktuk\n",
      "Processing City 128 | castro\n",
      "Processing City 129 | ponta do sol\n",
      "Processing City 130 | inverness\n",
      "Processing City 131 | fort nelson\n",
      "Processing City 132 | wukari\n",
      "Processing City 133 | fare\n",
      "Processing City 134 | thompson\n",
      "Processing City 135 | kavieng\n",
      "Data missing for falealupo, skipping...\n",
      "Processing City 137 | ostrovnoy\n",
      "Processing City 138 | lompoc\n",
      "Data missing for illoqqortoormiut, skipping...\n",
      "Processing City 140 | adrar\n",
      "Processing City 141 | atuona\n",
      "Processing City 142 | avarua\n",
      "Processing City 143 | maceio\n",
      "Data missing for balimo, skipping...\n",
      "Processing City 145 | machico\n",
      "Processing City 146 | palmer\n",
      "Processing City 147 | tutoia\n",
      "Processing City 148 | raudeberg\n",
      "Processing City 149 | leningradskiy\n",
      "Processing City 150 | bilma\n",
      "Processing City 151 | high level\n",
      "Processing City 152 | mount gambier\n",
      "Processing City 153 | dingle\n",
      "Processing City 154 | buckeye\n",
      "Processing City 155 | port lincoln\n",
      "Processing City 156 | shimoda\n",
      "Data missing for barentsburg, skipping...\n",
      "Processing City 158 | hithadhoo\n",
      "Processing City 159 | emiliano zapata\n",
      "Processing City 160 | itaituba\n",
      "Data missing for amderma, skipping...\n",
      "Processing City 162 | xuanhua\n",
      "Processing City 163 | victoria\n",
      "Processing City 164 | birin\n",
      "Processing City 165 | nossa senhora das dores\n",
      "Processing City 166 | amapa\n",
      "Processing City 167 | afua\n",
      "Processing City 168 | norman wells\n",
      "Processing City 169 | khatanga\n",
      "Processing City 170 | avera\n",
      "Processing City 171 | miri\n",
      "Processing City 172 | malanje\n",
      "Processing City 173 | santa maria\n",
      "Processing City 174 | cherskiy\n",
      "Processing City 175 | manado\n",
      "Processing City 176 | beringovskiy\n",
      "Processing City 177 | ancud\n",
      "Processing City 178 | dwarka\n",
      "Data missing for kadykchan, skipping...\n",
      "Processing City 180 | borogontsy\n",
      "Processing City 181 | saint-pierre\n",
      "Processing City 182 | okha\n",
      "Processing City 183 | touros\n",
      "Processing City 184 | port hardy\n",
      "Processing City 185 | homer\n",
      "Processing City 186 | caravelas\n",
      "Processing City 187 | vila franca do campo\n",
      "Processing City 188 | ulladulla\n",
      "Processing City 189 | oussouye\n",
      "Data missing for skagastrond, skipping...\n",
      "Processing City 191 | hun\n",
      "Processing City 192 | carnarvon\n",
      "Processing City 193 | iqaluit\n",
      "Processing City 194 | bubaque\n",
      "Processing City 195 | fortuna\n",
      "Processing City 196 | weihe\n",
      "Processing City 197 | chebenki\n",
      "Processing City 198 | santiago\n",
      "Processing City 199 | talon\n",
      "Processing City 200 | tamiahua\n",
      "Processing City 201 | kokkola\n",
      "Processing City 202 | urumqi\n",
      "Processing City 203 | cayenne\n",
      "Processing City 204 | naze\n",
      "Processing City 205 | boende\n",
      "Processing City 206 | boshnyakovo\n",
      "Processing City 207 | akyab\n",
      "Processing City 208 | kodiak\n",
      "Processing City 209 | iberia\n",
      "Processing City 210 | vanderhoof\n",
      "Processing City 211 | faanui\n",
      "Data missing for ramasukha, skipping...\n",
      "Processing City 213 | narsaq\n",
      "Data missing for burica, skipping...\n",
      "Processing City 215 | college\n",
      "Processing City 216 | vestmannaeyjar\n",
      "Processing City 217 | san francisco del mar\n",
      "Processing City 218 | visakhapatnam\n",
      "Processing City 219 | horta\n",
      "Processing City 220 | maloy\n",
      "Processing City 221 | talcahuano\n",
      "Processing City 222 | sakaiminato\n",
      "Processing City 223 | goderich\n",
      "Processing City 224 | alpine\n",
      "Processing City 225 | agustin codazzi\n",
      "Data missing for palabuhanratu, skipping...\n",
      "Processing City 227 | charlestown\n",
      "Processing City 228 | romny\n",
      "Processing City 229 | oranjemund\n",
      "Processing City 230 | zhezkazgan\n",
      "Processing City 231 | yashkul\n",
      "Processing City 232 | rawson\n",
      "Processing City 233 | tautira\n",
      "Processing City 234 | luderitz\n",
      "Processing City 235 | winneba\n",
      "Processing City 236 | marrakesh\n",
      "Processing City 237 | tommot\n",
      "Processing City 238 | yeppoon\n",
      "Processing City 239 | sioux lookout\n",
      "Processing City 240 | robertsport\n",
      "Processing City 241 | kipushi\n",
      "Processing City 242 | port blair\n",
      "Processing City 243 | ca mau\n",
      "Processing City 244 | lerwick\n",
      "Processing City 245 | tarija\n",
      "Processing City 246 | muscat\n",
      "Processing City 247 | nena\n",
      "Processing City 248 | traverse city\n",
      "Processing City 249 | benjamin constant\n",
      "Processing City 250 | matara\n",
      "Processing City 251 | celestun\n",
      "Processing City 252 | acarau\n",
      "Processing City 253 | vao\n"
     ]
    },
    {
     "name": "stdout",
     "output_type": "stream",
     "text": [
      "Processing City 254 | bambous virieux\n",
      "Processing City 255 | port macquarie\n",
      "Data missing for vaitupu, skipping...\n",
      "Processing City 257 | hokitika\n",
      "Processing City 258 | terrace\n",
      "Data missing for bolungarvik, skipping...\n",
      "Processing City 260 | chokurdakh\n",
      "Processing City 261 | tecoh\n",
      "Data missing for belushya guba, skipping...\n",
      "Processing City 263 | airai\n",
      "Processing City 264 | martapura\n",
      "Processing City 265 | saldanha\n",
      "Processing City 266 | grootfontein\n",
      "Processing City 267 | nhamunda\n",
      "Processing City 268 | bria\n",
      "Processing City 269 | ozernovskiy\n",
      "Data missing for sentyabrskiy, skipping...\n",
      "Processing City 271 | moba\n",
      "Processing City 272 | saint anthony\n",
      "Processing City 273 | souillac\n",
      "Processing City 274 | anadyr\n",
      "Processing City 275 | saiki\n",
      "Data missing for tumannyy, skipping...\n",
      "Processing City 277 | haines junction\n",
      "Processing City 278 | rognan\n",
      "Processing City 279 | mucurici\n",
      "Processing City 280 | nongstoin\n",
      "Processing City 281 | torbay\n",
      "Processing City 282 | vostok\n",
      "Processing City 283 | simpang\n",
      "Processing City 284 | roald\n",
      "Data missing for saleaula, skipping...\n",
      "Processing City 286 | ust-ishim\n",
      "Data missing for warqla, skipping...\n",
      "Processing City 288 | zhuhai\n",
      "Data missing for tarudant, skipping...\n",
      "Processing City 290 | arraial do cabo\n",
      "Processing City 291 | kadaya\n",
      "Processing City 292 | desnogorsk\n",
      "Processing City 293 | ovalle\n",
      "Processing City 294 | melilla\n",
      "Processing City 295 | longyearbyen\n",
      "Processing City 296 | kearney\n",
      "Processing City 297 | mnogovershinnyy\n",
      "Processing City 298 | bonavista\n",
      "Processing City 299 | hay river\n",
      "Processing City 300 | half moon bay\n",
      "Processing City 301 | cockburn town\n",
      "Processing City 302 | manzhouli\n",
      "Data missing for tsihombe, skipping...\n",
      "Processing City 304 | sobolevo\n",
      "Processing City 305 | east london\n",
      "Processing City 306 | merauke\n",
      "Processing City 307 | villazon\n",
      "Processing City 308 | portland\n",
      "Processing City 309 | klaksvik\n",
      "Processing City 310 | wajid\n",
      "Processing City 311 | puerto leguizamo\n",
      "Data missing for umzimvubu, skipping...\n",
      "Processing City 313 | saint-francois\n",
      "Processing City 314 | nishihara\n",
      "Processing City 315 | abnub\n",
      "Processing City 316 | hoi an\n",
      "Processing City 317 | port hedland\n",
      "Processing City 318 | constitucion\n",
      "Processing City 319 | magadan\n",
      "Processing City 320 | santa cruz\n",
      "Processing City 321 | alofi\n",
      "Processing City 322 | genhe\n",
      "Processing City 323 | camana\n",
      "Processing City 324 | lavrentiya\n",
      "Processing City 325 | mahajanga\n",
      "Processing City 326 | tchibanga\n",
      "Processing City 327 | warud\n",
      "Processing City 328 | sidi ali\n",
      "Processing City 329 | san carlos de bariloche\n",
      "Processing City 330 | colombia\n",
      "Processing City 331 | bitburg\n",
      "Processing City 332 | sola\n",
      "Processing City 333 | coolum beach\n",
      "Processing City 334 | tahoua\n",
      "Processing City 335 | sao joao da barra\n",
      "Processing City 336 | doume\n",
      "Processing City 337 | sindgi\n",
      "Processing City 338 | geraldton\n",
      "Processing City 339 | khandyga\n",
      "Processing City 340 | juneau\n",
      "Processing City 341 | paita\n",
      "Processing City 342 | vangaindrano\n",
      "Processing City 343 | naryan-mar\n",
      "Processing City 344 | tessalit\n",
      "Processing City 345 | mali\n",
      "Processing City 346 | mazamari\n",
      "Processing City 347 | bilibino\n",
      "Processing City 348 | cap malheureux\n",
      "Processing City 349 | la ronge\n",
      "Processing City 350 | qaqortoq\n",
      "Processing City 351 | nanakuli\n",
      "Processing City 352 | dandong\n",
      "Processing City 353 | tilichiki\n",
      "Processing City 354 | luoyang\n",
      "Processing City 355 | kruisfontein\n",
      "Processing City 356 | dhanbad\n",
      "Processing City 357 | talnakh\n",
      "Processing City 358 | shestakovo\n",
      "Processing City 359 | dhanera\n",
      "Processing City 360 | grindavik\n",
      "Processing City 361 | esperance\n",
      "Processing City 362 | santa maria del oro\n",
      "Processing City 363 | margate\n",
      "Processing City 364 | rongcheng\n",
      "Processing City 365 | letlhakane\n",
      "Processing City 366 | bengkulu\n",
      "Processing City 367 | sorrento\n",
      "Processing City 368 | hofn\n",
      "Processing City 369 | necochea\n",
      "Processing City 370 | ormara\n",
      "Processing City 371 | aksu\n",
      "Data missing for haibowan, skipping...\n",
      "Data missing for azimur, skipping...\n",
      "Processing City 374 | waynesboro\n",
      "Processing City 375 | san cristobal\n",
      "Processing City 376 | tongliao\n",
      "Data missing for tunxi, skipping...\n",
      "Processing City 378 | hambantota\n",
      "Processing City 379 | coracora\n",
      "Processing City 380 | sitka\n",
      "Processing City 381 | bugasong\n",
      "Processing City 382 | ribeira grande\n",
      "Processing City 383 | waingapu\n",
      "Processing City 384 | ibra\n",
      "Processing City 385 | vila velha\n",
      "Processing City 386 | kieta\n",
      "Data missing for rolim de moura, skipping...\n",
      "Processing City 388 | islahiye\n",
      "Processing City 389 | mae hong son\n",
      "Processing City 390 | burdur\n",
      "Processing City 391 | marsaxlokk\n",
      "Processing City 392 | tuatapere\n",
      "Data missing for chagda, skipping...\n",
      "Processing City 394 | helong\n",
      "Processing City 395 | rocha\n",
      "Processing City 396 | charters towers\n",
      "Data missing for samusu, skipping...\n",
      "Processing City 398 | mocuba\n",
      "Processing City 399 | chinhoyi\n",
      "Processing City 400 | srandakan\n",
      "Processing City 401 | arlit\n",
      "Processing City 402 | raymondville\n",
      "Processing City 403 | tromso\n",
      "Processing City 404 | solntsevo\n",
      "Processing City 405 | severnyy\n",
      "Processing City 406 | middleton\n",
      "Processing City 407 | mehamn\n",
      "Processing City 408 | korhogo\n",
      "Processing City 409 | aquiraz\n",
      "Data missing for lolua, skipping...\n",
      "Processing City 411 | comodoro rivadavia\n",
      "Processing City 412 | humaita\n",
      "Processing City 413 | coswig\n",
      "Processing City 414 | deer lake\n",
      "Processing City 415 | russell\n",
      "Processing City 416 | gat\n",
      "Processing City 417 | kupang\n",
      "Processing City 418 | lipin bor\n",
      "Processing City 419 | chichibu\n",
      "Processing City 420 | ilhabela\n",
      "Processing City 421 | coihaique\n",
      "Processing City 422 | aklavik\n",
      "Processing City 423 | buraydah\n",
      "Processing City 424 | horgos\n",
      "Processing City 425 | onguday\n",
      "Processing City 426 | aykhal\n",
      "Processing City 427 | antsirabe\n",
      "Processing City 428 | wanning\n",
      "Processing City 429 | mazagao\n",
      "Processing City 430 | atambua\n",
      "Processing City 431 | kidal\n",
      "Processing City 432 | denpasar\n",
      "Processing City 433 | chulman\n",
      "Processing City 434 | zhigansk\n",
      "Processing City 435 | altay\n",
      "Processing City 436 | kontagora\n",
      "Processing City 437 | nouadhibou\n",
      "Processing City 438 | suleja\n",
      "Processing City 439 | madison\n",
      "Data missing for ji-parana, skipping...\n",
      "Processing City 441 | verkhoyansk\n",
      "Data missing for tabiauea, skipping...\n",
      "Processing City 443 | kailua\n",
      "Processing City 444 | dubasari\n",
      "Processing City 445 | yumen\n",
      "Processing City 446 | tafalla\n",
      "Processing City 447 | ayan\n",
      "Processing City 448 | saint pete beach\n",
      "Processing City 449 | atar\n",
      "Processing City 450 | gemunden\n",
      "Processing City 451 | morgan city\n",
      "Processing City 452 | najran\n",
      "Processing City 453 | quatre cocos\n",
      "Processing City 454 | finschhafen\n",
      "Processing City 455 | khorramabad\n",
      "Processing City 456 | apache junction\n",
      "Processing City 457 | ponta delgada\n",
      "Processing City 458 | benalla\n",
      "Data missing for afmadu, skipping...\n",
      "Processing City 460 | sisimiut\n",
      "Processing City 461 | saint-augustin\n",
      "Processing City 462 | argir\n",
      "Processing City 463 | zyryanka\n",
      "Processing City 464 | hue\n",
      "Processing City 465 | sakakah\n",
      "Processing City 466 | korla\n",
      "Processing City 467 | tongzi\n",
      "Processing City 468 | dubai\n",
      "Processing City 469 | prince george\n",
      "Processing City 470 | mareeba\n",
      "Processing City 471 | pemba\n",
      "Processing City 472 | puerto escondido\n",
      "Processing City 473 | lorengau\n",
      "Processing City 474 | husavik\n",
      "Processing City 475 | krasnoarmeysk\n",
      "Processing City 476 | wembley\n",
      "Processing City 477 | puerto penasco\n",
      "Processing City 478 | pangody\n",
      "Processing City 479 | barguzin\n",
      "Processing City 480 | bairiki\n",
      "Processing City 481 | waipawa\n",
      "Processing City 482 | mackay\n",
      "Processing City 483 | kiunga\n",
      "Processing City 484 | mayo\n",
      "Processing City 485 | shakawe\n",
      "Processing City 486 | resistencia\n",
      "Processing City 487 | manika\n",
      "Processing City 488 | springbok\n",
      "Processing City 489 | kasongo\n",
      "Processing City 490 | kurilsk\n",
      "Processing City 491 | vega de alatorre\n",
      "Processing City 492 | jobner\n",
      "Processing City 493 | olafsvik\n",
      "Processing City 494 | oxford\n",
      "Processing City 495 | peterhead\n",
      "Processing City 496 | tucuman\n",
      "Processing City 497 | pavlogradka\n",
      "Processing City 498 | zonguldak\n",
      "Processing City 499 | burlington\n",
      "Processing City 500 | portoferraio\n",
      "Data missing for itahari, skipping...\n",
      "Processing City 502 | zumpango\n",
      "Processing City 503 | iquitos\n",
      "Processing City 504 | soyo\n",
      "Processing City 505 | mayya\n",
      "Processing City 506 | newton\n",
      "Processing City 507 | manaure\n",
      "Processing City 508 | larreynaga\n",
      "Processing City 509 | nelson bay\n",
      "Data missing for satitoa, skipping...\n"
     ]
    },
    {
     "name": "stdout",
     "output_type": "stream",
     "text": [
      "Processing City 511 | pangoa\n",
      "Processing City 512 | asau\n",
      "Processing City 513 | amahai\n",
      "Processing City 514 | abu samrah\n",
      "Processing City 515 | mankono\n",
      "Processing City 516 | torres\n",
      "Processing City 517 | puerto del rosario\n",
      "Processing City 518 | beloye\n",
      "Processing City 519 | chapais\n",
      "Processing City 520 | hervey bay\n",
      "Processing City 521 | guerrero negro\n",
      "Processing City 522 | viedma\n",
      "Processing City 523 | sassandra\n",
      "Data missing for marcona, skipping...\n",
      "Processing City 525 | tynda\n",
      "Processing City 526 | oytal\n",
      "Processing City 527 | maunabo\n",
      "Processing City 528 | albertville\n",
      "Data missing for nizhneyansk, skipping...\n",
      "Processing City 530 | khani\n",
      "Processing City 531 | cay\n",
      "Processing City 532 | tymovskoye\n",
      "Processing City 533 | anshun\n",
      "Processing City 534 | cheremukhovo\n",
      "Processing City 535 | jawhar\n",
      "Processing City 536 | vanimo\n",
      "Processing City 537 | tepalcatepec\n",
      "Processing City 538 | dickinson\n",
      "Processing City 539 | kon tum\n",
      "Processing City 540 | acurenam\n",
      "Processing City 541 | meulaboh\n",
      "Processing City 542 | creston\n",
      "Processing City 543 | shache\n",
      "Processing City 544 | fairbanks\n",
      "Data missing for kamenskoye, skipping...\n",
      "Processing City 546 | port moresby\n",
      "Processing City 547 | teya\n",
      "Processing City 548 | fukue\n",
      "Processing City 549 | west bay\n",
      "Processing City 550 | teguise\n",
      "Processing City 551 | huarmey\n",
      "Processing City 552 | progreso\n",
      "Processing City 553 | egvekinot\n",
      "Processing City 554 | selfoss\n",
      "Processing City 555 | broome\n",
      "Data missing for wulanhaote, skipping...\n",
      "Processing City 557 | gazanjyk\n",
      "Processing City 558 | high prairie\n",
      "Processing City 559 | taoudenni\n",
      "Processing City 560 | banda aceh\n",
      "Processing City 561 | namatanai\n",
      "Data missing for ijaki, skipping...\n",
      "Processing City 563 | torit\n",
      "Processing City 564 | kushiro\n",
      "Processing City 565 | waycross\n",
      "Processing City 566 | praxedis guerrero\n",
      "Processing City 567 | niort\n",
      "Processing City 568 | hualmay\n",
      "Processing City 569 | kaduy\n",
      "Processing City 570 | chickasha\n",
      "Processing City 571 | ferrol\n",
      "Processing City 572 | andra\n",
      "Processing City 573 | paka\n",
      "Processing City 574 | boditi\n",
      "Processing City 575 | krems\n",
      "Processing City 576 | chake chake\n",
      "Processing City 577 | lincoln\n",
      "Processing City 578 | camacha\n",
      "Processing City 579 | deputatskiy\n",
      "Processing City 580 | goleniow\n",
      "Processing City 581 | lalmohan\n",
      "Processing City 582 | kismayo\n",
      "Processing City 583 | roma\n",
      "Processing City 584 | agen\n",
      "Processing City 585 | cabedelo\n",
      "Processing City 586 | nuuk\n",
      "Processing City 587 | bonthe\n",
      "Processing City 588 | basoko\n",
      "Processing City 589 | channel-port aux basques\n",
      "Processing City 590 | yulara\n",
      "Processing City 591 | at-bashi\n",
      "Processing City 592 | nome\n",
      "Processing City 593 | bulgan\n",
      "Processing City 594 | ishigaki\n",
      "Processing City 595 | tazovskiy\n",
      "Processing City 596 | kati\n",
      "Processing City 597 | bonga\n",
      "Processing City 598 | dicabisagan\n",
      "Processing City 599 | shelburne\n",
      "Processing City 600 | san joaquin\n",
      "Processing City 601 | murdochville\n",
      "Processing City 602 | inhambane\n",
      "Processing City 603 | lihula\n",
      "Processing City 604 | manggar\n",
      "Processing City 605 | westport\n",
      "Processing City 606 | nantucket\n",
      "Processing City 607 | bella union\n",
      "Processing City 608 | araouane\n",
      "Processing City 609 | pangkalanbuun\n",
      "Processing City 610 | barra patuca\n",
      "Processing City 611 | tixkokob\n",
      "Processing City 612 | bosaso\n",
      "Processing City 613 | tual\n",
      "Processing City 614 | komsomolskiy\n",
      "Processing City 615 | tecoanapa\n",
      "Processing City 616 | livadiya\n",
      "Processing City 617 | auki\n",
      "Processing City 618 | broken hill\n",
      "Processing City 619 | klyuchi\n",
      "Processing City 620 | samandag\n",
      "Processing City 621 | burnie\n",
      "Data missing for barwaha, skipping...\n",
      "Processing City 623 | arandas\n",
      "-----------------------------------------------------\n",
      "Data Retrieval Complete\n",
      "-----------------------------------------------------\n"
     ]
    }
   ],
   "source": [
    "#url for api call\n",
    "url = \"http://api.openweathermap.org/data/2.5/weather?units=Imperial\"\n",
    "#build partial query URL\n",
    "query_url = url + \"&appid=\" + weather_api_key\n",
    "\n",
    "#create lists for try/except loop\n",
    "city = []\n",
    "latitude = []\n",
    "longitude = []\n",
    "temperature = []\n",
    "humidity = []\n",
    "clouds = []\n",
    "wind = []\n",
    "\n",
    "#loop through \n",
    "print(\"-----------------------------------------------------\")\n",
    "print(\"beginning Data Retrieval\")\n",
    "print(\"-----------------------------------------------------\")\n",
    "\n",
    "for x in range(len(cities)):\n",
    "    try:\n",
    "        response = requests.get(query_url + \"&q=\" + cities[x]).json()\n",
    "        city.append(response['name'])\n",
    "        latitude.append(response['coord']['lat'])\n",
    "        longitude.append(response['coord']['lon'])\n",
    "        temperature.append(response['main']['temp'])\n",
    "        humidity.append(response['main']['humidity'])\n",
    "        clouds.append(response['clouds']['all'])\n",
    "        wind.append(response['wind']['speed'])\n",
    "        print(f\"Processing City {x + 1} | {cities[x]}\")\n",
    "    except KeyError:\n",
    "        print(f\"Data missing for {cities[x]}, skipping...\")\n",
    "print(\"-----------------------------------------------------\")\n",
    "print(\"Data Retrieval Complete\")\n",
    "print(\"-----------------------------------------------------\")"
   ]
  },
  {
   "cell_type": "markdown",
   "metadata": {},
   "source": [
    "### Convert Raw Data to DataFrame\n",
    "* Export the city data into a .csv.\n",
    "* Display the DataFrame"
   ]
  },
  {
   "cell_type": "code",
   "execution_count": 4,
   "metadata": {},
   "outputs": [
    {
     "data": {
      "text/html": [
       "<div>\n",
       "<style scoped>\n",
       "    .dataframe tbody tr th:only-of-type {\n",
       "        vertical-align: middle;\n",
       "    }\n",
       "\n",
       "    .dataframe tbody tr th {\n",
       "        vertical-align: top;\n",
       "    }\n",
       "\n",
       "    .dataframe thead th {\n",
       "        text-align: right;\n",
       "    }\n",
       "</style>\n",
       "<table border=\"1\" class=\"dataframe\">\n",
       "  <thead>\n",
       "    <tr style=\"text-align: right;\">\n",
       "      <th></th>\n",
       "      <th>City</th>\n",
       "      <th>Lat</th>\n",
       "      <th>Lng</th>\n",
       "      <th>Max Temp</th>\n",
       "      <th>Humidity</th>\n",
       "      <th>Cloudiness</th>\n",
       "      <th>Wind Speed</th>\n",
       "    </tr>\n",
       "  </thead>\n",
       "  <tbody>\n",
       "    <tr>\n",
       "      <th>0</th>\n",
       "      <td>Price</td>\n",
       "      <td>39.5994</td>\n",
       "      <td>-110.8107</td>\n",
       "      <td>42.80</td>\n",
       "      <td>42</td>\n",
       "      <td>90</td>\n",
       "      <td>9.22</td>\n",
       "    </tr>\n",
       "    <tr>\n",
       "      <th>1</th>\n",
       "      <td>Tasiilaq</td>\n",
       "      <td>65.6145</td>\n",
       "      <td>-37.6368</td>\n",
       "      <td>30.20</td>\n",
       "      <td>86</td>\n",
       "      <td>75</td>\n",
       "      <td>33.38</td>\n",
       "    </tr>\n",
       "    <tr>\n",
       "      <th>2</th>\n",
       "      <td>Puerto Ayora</td>\n",
       "      <td>-0.7393</td>\n",
       "      <td>-90.3518</td>\n",
       "      <td>80.85</td>\n",
       "      <td>78</td>\n",
       "      <td>40</td>\n",
       "      <td>3.44</td>\n",
       "    </tr>\n",
       "    <tr>\n",
       "      <th>3</th>\n",
       "      <td>Bethel</td>\n",
       "      <td>41.3712</td>\n",
       "      <td>-73.4140</td>\n",
       "      <td>49.17</td>\n",
       "      <td>96</td>\n",
       "      <td>100</td>\n",
       "      <td>1.99</td>\n",
       "    </tr>\n",
       "    <tr>\n",
       "      <th>4</th>\n",
       "      <td>Hilo</td>\n",
       "      <td>19.7297</td>\n",
       "      <td>-155.0900</td>\n",
       "      <td>56.39</td>\n",
       "      <td>88</td>\n",
       "      <td>90</td>\n",
       "      <td>6.91</td>\n",
       "    </tr>\n",
       "    <tr>\n",
       "      <th>...</th>\n",
       "      <td>...</td>\n",
       "      <td>...</td>\n",
       "      <td>...</td>\n",
       "      <td>...</td>\n",
       "      <td>...</td>\n",
       "      <td>...</td>\n",
       "      <td>...</td>\n",
       "    </tr>\n",
       "    <tr>\n",
       "      <th>569</th>\n",
       "      <td>Broken Hill</td>\n",
       "      <td>-31.9500</td>\n",
       "      <td>141.4333</td>\n",
       "      <td>55.40</td>\n",
       "      <td>54</td>\n",
       "      <td>99</td>\n",
       "      <td>8.34</td>\n",
       "    </tr>\n",
       "    <tr>\n",
       "      <th>570</th>\n",
       "      <td>Klyuchi</td>\n",
       "      <td>52.2667</td>\n",
       "      <td>79.1667</td>\n",
       "      <td>54.72</td>\n",
       "      <td>62</td>\n",
       "      <td>80</td>\n",
       "      <td>4.59</td>\n",
       "    </tr>\n",
       "    <tr>\n",
       "      <th>571</th>\n",
       "      <td>Samandağ</td>\n",
       "      <td>36.0842</td>\n",
       "      <td>35.9771</td>\n",
       "      <td>71.60</td>\n",
       "      <td>43</td>\n",
       "      <td>0</td>\n",
       "      <td>14.97</td>\n",
       "    </tr>\n",
       "    <tr>\n",
       "      <th>572</th>\n",
       "      <td>Burnie</td>\n",
       "      <td>-41.0667</td>\n",
       "      <td>145.9167</td>\n",
       "      <td>43.47</td>\n",
       "      <td>89</td>\n",
       "      <td>18</td>\n",
       "      <td>3.00</td>\n",
       "    </tr>\n",
       "    <tr>\n",
       "      <th>573</th>\n",
       "      <td>Arandas</td>\n",
       "      <td>20.7000</td>\n",
       "      <td>-102.3500</td>\n",
       "      <td>75.36</td>\n",
       "      <td>23</td>\n",
       "      <td>1</td>\n",
       "      <td>6.40</td>\n",
       "    </tr>\n",
       "  </tbody>\n",
       "</table>\n",
       "<p>574 rows × 7 columns</p>\n",
       "</div>"
      ],
      "text/plain": [
       "             City      Lat       Lng  Max Temp  Humidity  Cloudiness  \\\n",
       "0           Price  39.5994 -110.8107     42.80        42          90   \n",
       "1        Tasiilaq  65.6145  -37.6368     30.20        86          75   \n",
       "2    Puerto Ayora  -0.7393  -90.3518     80.85        78          40   \n",
       "3          Bethel  41.3712  -73.4140     49.17        96         100   \n",
       "4            Hilo  19.7297 -155.0900     56.39        88          90   \n",
       "..            ...      ...       ...       ...       ...         ...   \n",
       "569   Broken Hill -31.9500  141.4333     55.40        54          99   \n",
       "570       Klyuchi  52.2667   79.1667     54.72        62          80   \n",
       "571      Samandağ  36.0842   35.9771     71.60        43           0   \n",
       "572        Burnie -41.0667  145.9167     43.47        89          18   \n",
       "573       Arandas  20.7000 -102.3500     75.36        23           1   \n",
       "\n",
       "     Wind Speed  \n",
       "0          9.22  \n",
       "1         33.38  \n",
       "2          3.44  \n",
       "3          1.99  \n",
       "4          6.91  \n",
       "..          ...  \n",
       "569        8.34  \n",
       "570        4.59  \n",
       "571       14.97  \n",
       "572        3.00  \n",
       "573        6.40  \n",
       "\n",
       "[574 rows x 7 columns]"
      ]
     },
     "execution_count": 4,
     "metadata": {},
     "output_type": "execute_result"
    }
   ],
   "source": [
    "#convert city data into DataFrame\n",
    "\n",
    "city_df = pd.DataFrame({\"City\": city,\n",
    "                       \"Lat\": latitude,\n",
    "                       \"Lng\": longitude,\n",
    "                       \"Max Temp\": temperature,\n",
    "                       \"Humidity\": humidity,\n",
    "                       \"Cloudiness\":clouds,\n",
    "                       \"Wind Speed\": wind})\n",
    "city_df"
   ]
  },
  {
   "cell_type": "code",
   "execution_count": 5,
   "metadata": {},
   "outputs": [
    {
     "data": {
      "text/html": [
       "<div>\n",
       "<style scoped>\n",
       "    .dataframe tbody tr th:only-of-type {\n",
       "        vertical-align: middle;\n",
       "    }\n",
       "\n",
       "    .dataframe tbody tr th {\n",
       "        vertical-align: top;\n",
       "    }\n",
       "\n",
       "    .dataframe thead th {\n",
       "        text-align: right;\n",
       "    }\n",
       "</style>\n",
       "<table border=\"1\" class=\"dataframe\">\n",
       "  <thead>\n",
       "    <tr style=\"text-align: right;\">\n",
       "      <th></th>\n",
       "      <th>Lat</th>\n",
       "      <th>Lng</th>\n",
       "      <th>Max Temp</th>\n",
       "      <th>Humidity</th>\n",
       "      <th>Cloudiness</th>\n",
       "      <th>Wind Speed</th>\n",
       "    </tr>\n",
       "  </thead>\n",
       "  <tbody>\n",
       "    <tr>\n",
       "      <th>count</th>\n",
       "      <td>574.000000</td>\n",
       "      <td>574.000000</td>\n",
       "      <td>574.000000</td>\n",
       "      <td>574.000000</td>\n",
       "      <td>574.000000</td>\n",
       "      <td>574.000000</td>\n",
       "    </tr>\n",
       "    <tr>\n",
       "      <th>mean</th>\n",
       "      <td>20.052417</td>\n",
       "      <td>15.714433</td>\n",
       "      <td>60.636185</td>\n",
       "      <td>66.851916</td>\n",
       "      <td>55.808362</td>\n",
       "      <td>8.058502</td>\n",
       "    </tr>\n",
       "    <tr>\n",
       "      <th>std</th>\n",
       "      <td>33.038002</td>\n",
       "      <td>92.772154</td>\n",
       "      <td>23.881273</td>\n",
       "      <td>23.154554</td>\n",
       "      <td>37.294332</td>\n",
       "      <td>5.782669</td>\n",
       "    </tr>\n",
       "    <tr>\n",
       "      <th>min</th>\n",
       "      <td>-54.800000</td>\n",
       "      <td>-179.166700</td>\n",
       "      <td>-20.870000</td>\n",
       "      <td>3.000000</td>\n",
       "      <td>0.000000</td>\n",
       "      <td>0.250000</td>\n",
       "    </tr>\n",
       "    <tr>\n",
       "      <th>25%</th>\n",
       "      <td>-6.634125</td>\n",
       "      <td>-68.100000</td>\n",
       "      <td>45.750000</td>\n",
       "      <td>53.000000</td>\n",
       "      <td>20.000000</td>\n",
       "      <td>3.970000</td>\n",
       "    </tr>\n",
       "    <tr>\n",
       "      <th>50%</th>\n",
       "      <td>22.684450</td>\n",
       "      <td>16.230200</td>\n",
       "      <td>65.665000</td>\n",
       "      <td>72.000000</td>\n",
       "      <td>66.500000</td>\n",
       "      <td>6.710000</td>\n",
       "    </tr>\n",
       "    <tr>\n",
       "      <th>75%</th>\n",
       "      <td>47.851100</td>\n",
       "      <td>103.853675</td>\n",
       "      <td>79.477500</td>\n",
       "      <td>86.000000</td>\n",
       "      <td>90.750000</td>\n",
       "      <td>11.040000</td>\n",
       "    </tr>\n",
       "    <tr>\n",
       "      <th>max</th>\n",
       "      <td>78.218600</td>\n",
       "      <td>179.316700</td>\n",
       "      <td>105.800000</td>\n",
       "      <td>100.000000</td>\n",
       "      <td>100.000000</td>\n",
       "      <td>35.790000</td>\n",
       "    </tr>\n",
       "  </tbody>\n",
       "</table>\n",
       "</div>"
      ],
      "text/plain": [
       "              Lat         Lng    Max Temp    Humidity  Cloudiness  Wind Speed\n",
       "count  574.000000  574.000000  574.000000  574.000000  574.000000  574.000000\n",
       "mean    20.052417   15.714433   60.636185   66.851916   55.808362    8.058502\n",
       "std     33.038002   92.772154   23.881273   23.154554   37.294332    5.782669\n",
       "min    -54.800000 -179.166700  -20.870000    3.000000    0.000000    0.250000\n",
       "25%     -6.634125  -68.100000   45.750000   53.000000   20.000000    3.970000\n",
       "50%     22.684450   16.230200   65.665000   72.000000   66.500000    6.710000\n",
       "75%     47.851100  103.853675   79.477500   86.000000   90.750000   11.040000\n",
       "max     78.218600  179.316700  105.800000  100.000000  100.000000   35.790000"
      ]
     },
     "execution_count": 5,
     "metadata": {},
     "output_type": "execute_result"
    }
   ],
   "source": [
    "city_df.describe()"
   ]
  },
  {
   "cell_type": "markdown",
   "metadata": {},
   "source": [
    "## Inspect the data and remove the cities where the humidity > 100%.\n",
    "----\n",
    "Skip this step if there are no cities that have humidity > 100%. "
   ]
  },
  {
   "cell_type": "code",
   "execution_count": 6,
   "metadata": {},
   "outputs": [
    {
     "data": {
      "text/html": [
       "<div>\n",
       "<style scoped>\n",
       "    .dataframe tbody tr th:only-of-type {\n",
       "        vertical-align: middle;\n",
       "    }\n",
       "\n",
       "    .dataframe tbody tr th {\n",
       "        vertical-align: top;\n",
       "    }\n",
       "\n",
       "    .dataframe thead th {\n",
       "        text-align: right;\n",
       "    }\n",
       "</style>\n",
       "<table border=\"1\" class=\"dataframe\">\n",
       "  <thead>\n",
       "    <tr style=\"text-align: right;\">\n",
       "      <th></th>\n",
       "      <th>City</th>\n",
       "      <th>Lat</th>\n",
       "      <th>Lng</th>\n",
       "      <th>Max Temp</th>\n",
       "      <th>Humidity</th>\n",
       "      <th>Cloudiness</th>\n",
       "      <th>Wind Speed</th>\n",
       "    </tr>\n",
       "  </thead>\n",
       "  <tbody>\n",
       "  </tbody>\n",
       "</table>\n",
       "</div>"
      ],
      "text/plain": [
       "Empty DataFrame\n",
       "Columns: [City, Lat, Lng, Max Temp, Humidity, Cloudiness, Wind Speed]\n",
       "Index: []"
      ]
     },
     "execution_count": 6,
     "metadata": {},
     "output_type": "execute_result"
    }
   ],
   "source": [
    "humidity_df = city_df.loc[city_df[\"Humidity\"] > 100]\n",
    "\n",
    "humidity_df"
   ]
  },
  {
   "cell_type": "code",
   "execution_count": 7,
   "metadata": {},
   "outputs": [],
   "source": [
    "#  Get the indices of cities that have humidity over 100%.\n",
    "\n",
    "# there are no cities with a humidity over 100"
   ]
  },
  {
   "cell_type": "code",
   "execution_count": 8,
   "metadata": {},
   "outputs": [
    {
     "data": {
      "text/html": [
       "<div>\n",
       "<style scoped>\n",
       "    .dataframe tbody tr th:only-of-type {\n",
       "        vertical-align: middle;\n",
       "    }\n",
       "\n",
       "    .dataframe tbody tr th {\n",
       "        vertical-align: top;\n",
       "    }\n",
       "\n",
       "    .dataframe thead th {\n",
       "        text-align: right;\n",
       "    }\n",
       "</style>\n",
       "<table border=\"1\" class=\"dataframe\">\n",
       "  <thead>\n",
       "    <tr style=\"text-align: right;\">\n",
       "      <th></th>\n",
       "      <th>City</th>\n",
       "      <th>Lat</th>\n",
       "      <th>Lng</th>\n",
       "      <th>Max Temp</th>\n",
       "      <th>Humidity</th>\n",
       "      <th>Cloudiness</th>\n",
       "      <th>Wind Speed</th>\n",
       "    </tr>\n",
       "  </thead>\n",
       "  <tbody>\n",
       "    <tr>\n",
       "      <th>0</th>\n",
       "      <td>Price</td>\n",
       "      <td>39.5994</td>\n",
       "      <td>-110.8107</td>\n",
       "      <td>42.80</td>\n",
       "      <td>42</td>\n",
       "      <td>90</td>\n",
       "      <td>9.22</td>\n",
       "    </tr>\n",
       "    <tr>\n",
       "      <th>1</th>\n",
       "      <td>Tasiilaq</td>\n",
       "      <td>65.6145</td>\n",
       "      <td>-37.6368</td>\n",
       "      <td>30.20</td>\n",
       "      <td>86</td>\n",
       "      <td>75</td>\n",
       "      <td>33.38</td>\n",
       "    </tr>\n",
       "    <tr>\n",
       "      <th>2</th>\n",
       "      <td>Puerto Ayora</td>\n",
       "      <td>-0.7393</td>\n",
       "      <td>-90.3518</td>\n",
       "      <td>80.85</td>\n",
       "      <td>78</td>\n",
       "      <td>40</td>\n",
       "      <td>3.44</td>\n",
       "    </tr>\n",
       "    <tr>\n",
       "      <th>3</th>\n",
       "      <td>Bethel</td>\n",
       "      <td>41.3712</td>\n",
       "      <td>-73.4140</td>\n",
       "      <td>49.17</td>\n",
       "      <td>96</td>\n",
       "      <td>100</td>\n",
       "      <td>1.99</td>\n",
       "    </tr>\n",
       "    <tr>\n",
       "      <th>4</th>\n",
       "      <td>Hilo</td>\n",
       "      <td>19.7297</td>\n",
       "      <td>-155.0900</td>\n",
       "      <td>56.39</td>\n",
       "      <td>88</td>\n",
       "      <td>90</td>\n",
       "      <td>6.91</td>\n",
       "    </tr>\n",
       "    <tr>\n",
       "      <th>...</th>\n",
       "      <td>...</td>\n",
       "      <td>...</td>\n",
       "      <td>...</td>\n",
       "      <td>...</td>\n",
       "      <td>...</td>\n",
       "      <td>...</td>\n",
       "      <td>...</td>\n",
       "    </tr>\n",
       "    <tr>\n",
       "      <th>569</th>\n",
       "      <td>Broken Hill</td>\n",
       "      <td>-31.9500</td>\n",
       "      <td>141.4333</td>\n",
       "      <td>55.40</td>\n",
       "      <td>54</td>\n",
       "      <td>99</td>\n",
       "      <td>8.34</td>\n",
       "    </tr>\n",
       "    <tr>\n",
       "      <th>570</th>\n",
       "      <td>Klyuchi</td>\n",
       "      <td>52.2667</td>\n",
       "      <td>79.1667</td>\n",
       "      <td>54.72</td>\n",
       "      <td>62</td>\n",
       "      <td>80</td>\n",
       "      <td>4.59</td>\n",
       "    </tr>\n",
       "    <tr>\n",
       "      <th>571</th>\n",
       "      <td>Samandağ</td>\n",
       "      <td>36.0842</td>\n",
       "      <td>35.9771</td>\n",
       "      <td>71.60</td>\n",
       "      <td>43</td>\n",
       "      <td>0</td>\n",
       "      <td>14.97</td>\n",
       "    </tr>\n",
       "    <tr>\n",
       "      <th>572</th>\n",
       "      <td>Burnie</td>\n",
       "      <td>-41.0667</td>\n",
       "      <td>145.9167</td>\n",
       "      <td>43.47</td>\n",
       "      <td>89</td>\n",
       "      <td>18</td>\n",
       "      <td>3.00</td>\n",
       "    </tr>\n",
       "    <tr>\n",
       "      <th>573</th>\n",
       "      <td>Arandas</td>\n",
       "      <td>20.7000</td>\n",
       "      <td>-102.3500</td>\n",
       "      <td>75.36</td>\n",
       "      <td>23</td>\n",
       "      <td>1</td>\n",
       "      <td>6.40</td>\n",
       "    </tr>\n",
       "  </tbody>\n",
       "</table>\n",
       "<p>574 rows × 7 columns</p>\n",
       "</div>"
      ],
      "text/plain": [
       "             City      Lat       Lng  Max Temp  Humidity  Cloudiness  \\\n",
       "0           Price  39.5994 -110.8107     42.80        42          90   \n",
       "1        Tasiilaq  65.6145  -37.6368     30.20        86          75   \n",
       "2    Puerto Ayora  -0.7393  -90.3518     80.85        78          40   \n",
       "3          Bethel  41.3712  -73.4140     49.17        96         100   \n",
       "4            Hilo  19.7297 -155.0900     56.39        88          90   \n",
       "..            ...      ...       ...       ...       ...         ...   \n",
       "569   Broken Hill -31.9500  141.4333     55.40        54          99   \n",
       "570       Klyuchi  52.2667   79.1667     54.72        62          80   \n",
       "571      Samandağ  36.0842   35.9771     71.60        43           0   \n",
       "572        Burnie -41.0667  145.9167     43.47        89          18   \n",
       "573       Arandas  20.7000 -102.3500     75.36        23           1   \n",
       "\n",
       "     Wind Speed  \n",
       "0          9.22  \n",
       "1         33.38  \n",
       "2          3.44  \n",
       "3          1.99  \n",
       "4          6.91  \n",
       "..          ...  \n",
       "569        8.34  \n",
       "570        4.59  \n",
       "571       14.97  \n",
       "572        3.00  \n",
       "573        6.40  \n",
       "\n",
       "[574 rows x 7 columns]"
      ]
     },
     "execution_count": 8,
     "metadata": {},
     "output_type": "execute_result"
    }
   ],
   "source": [
    "# Make a new DataFrame equal to the city data to drop all humidity outliers by index.\n",
    "# Passing \"inplace=False\" will make a copy of the city_data DataFrame, which we call \"clean_city_data\".\n",
    "\n",
    "\n",
    "clean_city_data = city_df\n",
    "clean_city_data"
   ]
  },
  {
   "cell_type": "code",
   "execution_count": 15,
   "metadata": {
    "scrolled": true
   },
   "outputs": [],
   "source": [
    "clean_city_data.to_csv(output_data_file)"
   ]
  },
  {
   "cell_type": "markdown",
   "metadata": {},
   "source": [
    "## Plotting the Data\n",
    "* Use proper labeling of the plots using plot titles (including date of analysis) and axes labels.\n",
    "* Save the plotted figures as .pngs."
   ]
  },
  {
   "cell_type": "markdown",
   "metadata": {},
   "source": [
    "## Latitude vs. Temperature Plot"
   ]
  },
  {
   "cell_type": "code",
   "execution_count": 17,
   "metadata": {
    "scrolled": true
   },
   "outputs": [
    {
     "data": {
      "image/png": "[encoded data removed]",
      "text/plain": [
       "<Figure size 432x288 with 1 Axes>"
      ]
     },
     "metadata": {
      "needs_background": "light"
     },
     "output_type": "display_data"
    }
   ],
   "source": [
    "x_values = clean_city_data[\"Lat\"]\n",
    "y_values = clean_city_data[\"Max Temp\"]\n",
    "\n",
    "plt.scatter(x_values,y_values, alpha = .75)\n",
    "plt.title(\"City Latitude vs. Temperature\")\n",
    "plt.xlabel(\"Latitude\")\n",
    "plt.ylabel(\"Temperature\")\n",
    "plt.grid(True)\n",
    "plt.savefig(\"../output/figures/latvstemp.png\")\n",
    "\n",
    "#The code above plots weather temps vs latitude. We know that a latitude of 0 is the equator.\n",
    "#Assuming we have data from both the northern and southern hemisphere we should see an upside down U shape of the graph\n",
    "#This shape is because we expect our latitude numbers to range from positive to negative with 0 in the middle, higher temperatures should group around the 0 and trail off the farther we awway we get from 0, causing the upside down U shape."
   ]
  },
  {
   "cell_type": "markdown",
   "metadata": {},
   "source": [
    "## Latitude vs. Humidity Plot"
   ]
  },
  {
   "cell_type": "code",
   "execution_count": 18,
   "metadata": {},
   "outputs": [
    {
     "data": {
      "image/png": "[encoded data removed]",
      "text/plain": [
       "<Figure size 432x288 with 1 Axes>"
      ]
     },
     "metadata": {
      "needs_background": "light"
     },
     "output_type": "display_data"
    }
   ],
   "source": [
    "x_values = clean_city_data[\"Lat\"]\n",
    "y_values = clean_city_data[\"Humidity\"]\n",
    "\n",
    "plt.scatter(x_values,y_values, alpha = .75)\n",
    "plt.title(\"City Latitude vs. Humidity\")\n",
    "plt.xlabel(\"Latitude\")\n",
    "plt.ylabel(\"Humidity\")\n",
    "plt.grid(True)\n",
    "plt.savefig(\"../output/figures/latvshum.png\")\n",
    "#The code above compares latitude to humidity.\n",
    "#This means it shows us the relative humidity level for each city in in a lat range.\n",
    "#We can see from the graph that high levels of humidity exist accross latitudes, with lower levels occuring but less frequently."
   ]
  },
  {
   "cell_type": "markdown",
   "metadata": {},
   "source": [
    "## Latitude vs. Cloudiness Plot"
   ]
  },
  {
   "cell_type": "code",
   "execution_count": 19,
   "metadata": {},
   "outputs": [
    {
     "data": {
      "image/png": "[encoded data removed]",
      "text/plain": [
       "<Figure size 432x288 with 1 Axes>"
      ]
     },
     "metadata": {
      "needs_background": "light"
     },
     "output_type": "display_data"
    }
   ],
   "source": [
    "x_values = clean_city_data[\"Lat\"]\n",
    "y_values = clean_city_data[\"Cloudiness\"]\n",
    "\n",
    "plt.scatter(x_values,y_values, alpha = .75)\n",
    "plt.title(\"City Latitude vs. Cloudiness\")\n",
    "plt.xlabel(\"Latitude\")\n",
    "plt.ylabel(\"Cloudiness\")\n",
    "plt.grid(True)\n",
    "plt.savefig(\"../output/figures/latvscloud.png\")\n",
    "#The code above plots latitude vs cloudiness\n",
    "#We can see from the chart that cloudiness is pretty level accross the board\n",
    "#every latitude pretty much has every level of cloudiness until you get closer to the poles, this tells me maybe cloudiness is more related to a factor that is no latitude."
   ]
  },
  {
   "cell_type": "markdown",
   "metadata": {},
   "source": [
    "## Latitude vs. Wind Speed Plot"
   ]
  },
  {
   "cell_type": "code",
   "execution_count": 20,
   "metadata": {},
   "outputs": [
    {
     "data": {
      "image/png": "[encoded data removed]",
      "text/plain": [
       "<Figure size 432x288 with 1 Axes>"
      ]
     },
     "metadata": {
      "needs_background": "light"
     },
     "output_type": "display_data"
    }
   ],
   "source": [
    "x_values = clean_city_data[\"Lat\"]\n",
    "y_values = clean_city_data[\"Wind Speed\"]\n",
    "\n",
    "plt.scatter(x_values,y_values, alpha = .75)\n",
    "plt.title(\"City Latitude vs. Wind Speed\")\n",
    "plt.xlabel(\"Latitude\")\n",
    "plt.ylabel(\"Wind Speed\")\n",
    "plt.grid(True)\n",
    "plt.savefig(\"../output/figures/latvswind.png\")\n",
    "#the code above compares latitude vs wind speed\n",
    "#similar to cloudiness it looks like wind speed hold pretty consistant between 1mph and 20mph range accross all latitudes\n",
    "# we do see some potential outliers above the 20mph mark, we also see a slight dip in wind speed at latitudes between the -5 and 5 ticks on the x axis."
   ]
  },
  {
   "cell_type": "markdown",
   "metadata": {},
   "source": [
    "## Linear Regression"
   ]
  },
  {
   "cell_type": "code",
   "execution_count": 21,
   "metadata": {},
   "outputs": [],
   "source": [
    "city_nh = clean_city_data.loc[clean_city_data[\"Lat\"]>=0]\n",
    "city_sh = clean_city_data.loc[clean_city_data[\"Lat\"]< 0]"
   ]
  },
  {
   "cell_type": "markdown",
   "metadata": {},
   "source": [
    "####  Northern Hemisphere - Max Temp vs. Latitude Linear Regression"
   ]
  },
  {
   "cell_type": "code",
   "execution_count": 22,
   "metadata": {},
   "outputs": [
    {
     "name": "stdout",
     "output_type": "stream",
     "text": [
      "The r-squared is: 0.7743582026000977\n"
     ]
    },
    {
     "data": {
      "image/png": "[encoded data removed]",
      "text/plain": [
       "<Figure size 432x288 with 1 Axes>"
      ]
     },
     "metadata": {
      "needs_background": "light"
     },
     "output_type": "display_data"
    }
   ],
   "source": [
    "x_values = city_nh[\"Lat\"]\n",
    "y_values = city_nh[\"Max Temp\"]\n",
    "(slope, intercept, rvalue, pvalue, stderr) = linregress(x_values, y_values)\n",
    "regress_values = x_values * slope + intercept\n",
    "line_eq = \"y = \" + str(round(slope,2)) + \"x + \" + str(round(intercept,2))\n",
    "plt.scatter(x_values,y_values)\n",
    "plt.plot(x_values,regress_values,\"r-\")\n",
    "plt.annotate(line_eq,(6,10),fontsize=15,color=\"red\")\n",
    "plt.xlabel('Latitude')\n",
    "plt.ylabel('Max Temperature')\n",
    "print(f\"The r-squared is: {rvalue**2}\")\n",
    "plt.savefig(\"../output/figures/latvstempNH.png\")\n",
    "\n",
    "#We can see from the regression that there is a strong correlation between latitude and temperature in the northern hemisphere.\n",
    "#As seen below, we start at 0 (Equator) and as we go farther and farther north (towards lat 80), the temperature drops. This is exactly what we would expecet to see."
   ]
  },
  {
   "cell_type": "markdown",
   "metadata": {},
   "source": [
    "####  Southern Hemisphere - Max Temp vs. Latitude Linear Regression"
   ]
  },
  {
   "cell_type": "code",
   "execution_count": 23,
   "metadata": {},
   "outputs": [
    {
     "name": "stdout",
     "output_type": "stream",
     "text": [
      "The r-squared is: 0.5180528291946107\n"
     ]
    },
    {
     "data": {
      "image/png": "[encoded data removed]",
      "text/plain": [
       "<Figure size 432x288 with 1 Axes>"
      ]
     },
     "metadata": {
      "needs_background": "light"
     },
     "output_type": "display_data"
    }
   ],
   "source": [
    "x_values = city_sh[\"Lat\"]\n",
    "y_values = city_sh[\"Max Temp\"]\n",
    "(slope, intercept, rvalue, pvalue, stderr) = linregress(x_values, y_values)\n",
    "regress_values = x_values * slope + intercept\n",
    "line_eq = \"y = \" + str(round(slope,2)) + \"x + \" + str(round(intercept,2))\n",
    "plt.scatter(x_values,y_values)\n",
    "plt.plot(x_values,regress_values,\"r-\")\n",
    "plt.annotate(line_eq,(-50,80),fontsize=15,color=\"red\")\n",
    "plt.xlabel('Latitude')\n",
    "plt.ylabel('Max Temperature')\n",
    "print(f\"The r-squared is: {rvalue**2}\")\n",
    "plt.savefig(\"../output/figures/latvstempSH.png\")\n",
    "#We see similar results in the southern hemisphere, higher temps at the equator and it gets colder the farther south we go.\n",
    "#The only other thing we see here is that the correlation is weaker than it was for the northern hemisphere, meaning we see slightly more sparatic temperatures in the southern hemisphere.\n",
    "#It is possible this correlation difference is related to sample size, it looks like we pulled less cities in the southern hemisphere in our random data set."
   ]
  },
  {
   "cell_type": "markdown",
   "metadata": {},
   "source": [
    "####  Northern Hemisphere - Humidity (%) vs. Latitude Linear Regression"
   ]
  },
  {
   "cell_type": "code",
   "execution_count": 24,
   "metadata": {},
   "outputs": [
    {
     "name": "stdout",
     "output_type": "stream",
     "text": [
      "The r-squared is: 0.09542996197319198\n"
     ]
    },
    {
     "data": {
      "image/png": "[encoded data removed]",
      "text/plain": [
       "<Figure size 432x288 with 1 Axes>"
      ]
     },
     "metadata": {
      "needs_background": "light"
     },
     "output_type": "display_data"
    }
   ],
   "source": [
    "x_values = city_nh[\"Lat\"]\n",
    "y_values = city_nh[\"Humidity\"]\n",
    "(slope, intercept, rvalue, pvalue, stderr) = linregress(x_values, y_values)\n",
    "regress_values = x_values * slope + intercept\n",
    "line_eq = \"y = \" + str(round(slope,2)) + \"x + \" + str(round(intercept,2))\n",
    "plt.scatter(x_values,y_values)\n",
    "plt.plot(x_values,regress_values,\"r-\")\n",
    "plt.annotate(line_eq,(43,10),fontsize=15,color=\"red\")\n",
    "plt.xlabel('Latitude')\n",
    "plt.ylabel('Humidity')\n",
    "print(f\"The r-squared is: {rvalue**2}\")\n",
    "plt.savefig(\"../output/figures/latvshumNH.png\")"
   ]
  },
  {
   "cell_type": "markdown",
   "metadata": {},
   "source": [
    "####  Southern Hemisphere - Humidity (%) vs. Latitude Linear Regression"
   ]
  },
  {
   "cell_type": "code",
   "execution_count": 25,
   "metadata": {},
   "outputs": [
    {
     "name": "stdout",
     "output_type": "stream",
     "text": [
      "The r-squared is: 0.021378751898212374\n"
     ]
    },
    {
     "data": {
      "image/png": "[encoded data removed]",
      "text/plain": [
       "<Figure size 432x288 with 1 Axes>"
      ]
     },
     "metadata": {
      "needs_background": "light"
     },
     "output_type": "display_data"
    }
   ],
   "source": [
    "x_values = city_sh[\"Lat\"]\n",
    "y_values = city_sh[\"Humidity\"]\n",
    "(slope, intercept, rvalue, pvalue, stderr) = linregress(x_values, y_values)\n",
    "regress_values = x_values * slope + intercept\n",
    "line_eq = \"y = \" + str(round(slope,2)) + \"x + \" + str(round(intercept,2))\n",
    "plt.scatter(x_values,y_values)\n",
    "plt.plot(x_values,regress_values,\"r-\")\n",
    "plt.annotate(line_eq,(-50,15),fontsize=15,color=\"red\")\n",
    "plt.xlabel('Latitude')\n",
    "plt.ylabel('Humidity')\n",
    "print(f\"The r-squared is: {rvalue**2}\")\n",
    "plt.savefig(\"../output/figures/latvshumSH.png\")\n",
    "#the regressions for humidity vs latitude show us that the correlation between humidity and latitude are much weaker than temp vs lat.\n",
    "#Even though this is true we once again see a much stronger correlation in the northern hemisphere than we do in the southern hemisphere.\n",
    "#In fact the correlation in the southern hemishere is almost non existent as shown by our .009 r squared value."
   ]
  },
  {
   "cell_type": "markdown",
   "metadata": {},
   "source": [
    "####  Northern Hemisphere - Cloudiness (%) vs. Latitude Linear Regression"
   ]
  },
  {
   "cell_type": "code",
   "execution_count": 26,
   "metadata": {},
   "outputs": [
    {
     "name": "stdout",
     "output_type": "stream",
     "text": [
      "The r-squared is: 0.01436373760879162\n"
     ]
    },
    {
     "data": {
      "image/png": "[encoded data removed]",
      "text/plain": [
       "<Figure size 432x288 with 1 Axes>"
      ]
     },
     "metadata": {
      "needs_background": "light"
     },
     "output_type": "display_data"
    }
   ],
   "source": [
    "x_values = city_nh[\"Lat\"]\n",
    "y_values = city_nh[\"Cloudiness\"]\n",
    "(slope, intercept, rvalue, pvalue, stderr) = linregress(x_values, y_values)\n",
    "regress_values = x_values * slope + intercept\n",
    "line_eq = \"y = \" + str(round(slope,2)) + \"x + \" + str(round(intercept,2))\n",
    "plt.scatter(x_values,y_values)\n",
    "plt.plot(x_values,regress_values,\"r-\")\n",
    "plt.annotate(line_eq,(15,50),fontsize=15,color=\"red\")\n",
    "plt.xlabel('Latitude')\n",
    "plt.ylabel('Cloudiness')\n",
    "print(f\"The r-squared is: {rvalue**2}\")\n",
    "plt.savefig(\"../output/figures/latvscloudNH.png\")\n",
    "#The set of graphs above"
   ]
  },
  {
   "cell_type": "markdown",
   "metadata": {},
   "source": [
    "####  Southern Hemisphere - Cloudiness (%) vs. Latitude Linear Regression"
   ]
  },
  {
   "cell_type": "code",
   "execution_count": 27,
   "metadata": {},
   "outputs": [
    {
     "name": "stdout",
     "output_type": "stream",
     "text": [
      "The r-squared is: 0.09416875939436098\n"
     ]
    },
    {
     "data": {
      "image/png": "[encoded data removed]",
      "text/plain": [
       "<Figure size 432x288 with 1 Axes>"
      ]
     },
     "metadata": {
      "needs_background": "light"
     },
     "output_type": "display_data"
    }
   ],
   "source": [
    "x_values = city_sh[\"Lat\"]\n",
    "y_values = city_sh[\"Cloudiness\"]\n",
    "(slope, intercept, rvalue, pvalue, stderr) = linregress(x_values, y_values)\n",
    "regress_values = x_values * slope + intercept\n",
    "line_eq = \"y = \" + str(round(slope,2)) + \"x + \" + str(round(intercept,2))\n",
    "plt.scatter(x_values,y_values)\n",
    "plt.plot(x_values,regress_values,\"r-\")\n",
    "plt.annotate(line_eq,(-55,17),fontsize=15,color=\"red\")\n",
    "plt.xlabel('Latitude')\n",
    "plt.ylabel('Cloudiness')\n",
    "print(f\"The r-squared is: {rvalue**2}\")\n",
    "plt.savefig(\"../output/figures/latvscloudNSH.png\")\n",
    "#Cloudiness vs lat is very similar to Humidty vs lat, the r-squared values are very similar for each regrssion. Telling us pretty much the same story.\n",
    "#This does raise the question what are these values correlated to.\n",
    "#I would want to see the correlation between humidity and cloudiness, my guess is there is a strong correlation there related more towards weather patterns and air currents than latitude, but at this point that is pure speculation."
   ]
  },
  {
   "cell_type": "markdown",
   "metadata": {},
   "source": [
    "####  Northern Hemisphere - Wind Speed (mph) vs. Latitude Linear Regression"
   ]
  },
  {
   "cell_type": "code",
   "execution_count": 28,
   "metadata": {},
   "outputs": [
    {
     "name": "stdout",
     "output_type": "stream",
     "text": [
      "The r-squared is: 0.02548073436945134\n"
     ]
    },
    {
     "data": {
      "image/png": "[encoded data removed]",
      "text/plain": [
       "<Figure size 432x288 with 1 Axes>"
      ]
     },
     "metadata": {
      "needs_background": "light"
     },
     "output_type": "display_data"
    }
   ],
   "source": [
    "x_values = city_nh[\"Lat\"]\n",
    "y_values = city_nh[\"Wind Speed\"]\n",
    "(slope, intercept, rvalue, pvalue, stderr) = linregress(x_values, y_values)\n",
    "regress_values = x_values * slope + intercept\n",
    "line_eq = \"y = \" + str(round(slope,2)) + \"x + \" + str(round(intercept,2))\n",
    "plt.scatter(x_values,y_values)\n",
    "plt.plot(x_values,regress_values,\"r-\")\n",
    "plt.annotate(line_eq,(5,30),fontsize=15,color=\"red\")\n",
    "plt.xlabel('Latitude')\n",
    "plt.ylabel('Wind Speed')\n",
    "print(f\"The r-squared is: {rvalue**2}\")\n",
    "plt.savefig(\"../output/figures/latvswindNH.png\")"
   ]
  },
  {
   "cell_type": "markdown",
   "metadata": {},
   "source": [
    "####  Southern Hemisphere - Wind Speed (mph) vs. Latitude Linear Regression"
   ]
  },
  {
   "cell_type": "code",
   "execution_count": 43,
   "metadata": {},
   "outputs": [
    {
     "name": "stdout",
     "output_type": "stream",
     "text": [
      "The r-squared is: 0.13479632081763818\n"
     ]
    },
    {
     "data": {
      "image/png": "[encoded data removed]",
      "text/plain": [
       "<Figure size 432x288 with 1 Axes>"
      ]
     },
     "metadata": {
      "needs_background": "light"
     },
     "output_type": "display_data"
    }
   ],
   "source": [
    "x_values = city_sh[\"Lat\"]\n",
    "y_values = city_sh[\"Wind Speed\"]\n",
    "(slope, intercept, rvalue, pvalue, stderr) = linregress(x_values, y_values)\n",
    "regress_values = x_values * slope + intercept\n",
    "line_eq = \"y = \" + str(round(slope,2)) + \"x + \" + str(round(intercept,2))\n",
    "plt.scatter(x_values,y_values)\n",
    "plt.plot(x_values,regress_values,\"r-\")\n",
    "plt.annotate(line_eq,(-30,30),fontsize=15,color=\"red\")\n",
    "plt.xlabel('Latitude')\n",
    "plt.ylabel('Wind Speed')\n",
    "print(f\"The r-squared is: {rvalue**2}\")\n",
    "plt.savefig(\"../output/figures/latvswindSH.png\")\n",
    "#the correlation from wind speed to latitude in the northern hemisphere is very weak, and it is only slightly stronger in the southern hemisphere.\n",
    "#We can see from the southern hemisphere graph that wind speed does tend to trend up the farther away we get from the equator.\n",
    "#Since these are latitudes for cities, I wonder if the correlation would look different accross longitudes outside of an urban area, say over the ocean?"
   ]
  },
  {
   "cell_type": "code",
   "execution_count": null,
   "metadata": {},
   "outputs": [],
   "source": []
  }
 ],
 "metadata": {
  "anaconda-cloud": {},
  "kernel_info": {
   "name": "python3"
  },
  "kernelspec": {
   "display_name": "Python 3",
   "language": "python",
   "name": "python3"
  },
  "language_info": {
   "codemirror_mode": {
    "name": "ipython",
    "version": 3
   },
   "file_extension": ".py",
   "mimetype": "text/x-python",
   "name": "python",
   "nbconvert_exporter": "python",
   "pygments_lexer": "ipython3",
   "version": "3.8.5"
  },
  "latex_envs": {
   "LaTeX_envs_menu_present": true,
   "autoclose": false,
   "autocomplete": true,
   "bibliofile": "biblio.bib",
   "cite_by": "apalike",
   "current_citInitial": 1,
   "eqLabelWithNumbers": true,
   "eqNumInitial": 1,
   "hotkeys": {
    "equation": "Ctrl-E",
    "itemize": "Ctrl-I"
   },
   "labels_anchors": false,
   "latex_user_defs": false,
   "report_style_numbering": false,
   "user_envs_cfg": false
  },
  "nteract": {
   "version": "0.12.3"
  }
 },
 "nbformat": 4,
 "nbformat_minor": 2
}
