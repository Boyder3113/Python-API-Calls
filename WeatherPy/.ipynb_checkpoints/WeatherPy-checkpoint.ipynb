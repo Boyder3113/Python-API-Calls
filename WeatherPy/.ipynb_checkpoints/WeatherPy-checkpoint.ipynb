{
 "cells": [
  {
   "cell_type": "markdown",
   "metadata": {},
   "source": [
    "# WeatherPy\n",
    "----\n",
    "\n",
    "#### Note\n",
    "* Instructions have been included for each segment. You do not have to follow them exactly, but they are included to help you think through the steps."
   ]
  },
  {
   "cell_type": "code",
   "execution_count": 1,
   "metadata": {
    "scrolled": true
   },
   "outputs": [],
   "source": [
    "# Dependencies and Setup\n",
    "import matplotlib.pyplot as plt\n",
    "import pandas as pd\n",
    "import numpy as np\n",
    "import requests\n",
    "import time\n",
    "from scipy.stats import linregress\n",
    "\n",
    "# Import API key\n",
    "from api_keys import weather_api_key\n",
    "\n",
    "# Incorporated citipy to determine city based on latitude and longitude\n",
    "from citipy import citipy\n",
    "\n",
    "# Output File (CSV)\n",
    "output_data_file = \"output_data/cities.csv\"\n",
    "\n",
    "# Range of latitudes and longitudes\n",
    "lat_range = (-90, 90)\n",
    "lng_range = (-180, 180)"
   ]
  },
  {
   "cell_type": "markdown",
   "metadata": {},
   "source": [
    "## Generate Cities List"
   ]
  },
  {
   "cell_type": "code",
   "execution_count": 2,
   "metadata": {},
   "outputs": [
    {
     "data": {
      "text/plain": [
       "606"
      ]
     },
     "execution_count": 2,
     "metadata": {},
     "output_type": "execute_result"
    }
   ],
   "source": [
    "# List for holding lat_lngs and cities\n",
    "lat_lngs = []\n",
    "cities = []\n",
    "\n",
    "# Create a set of random lat and lng combinations\n",
    "lats = np.random.uniform(lat_range[0], lat_range[1], size=1500)\n",
    "lngs = np.random.uniform(lng_range[0], lng_range[1], size=1500)\n",
    "lat_lngs = zip(lats, lngs)\n",
    "\n",
    "# Identify nearest city for each lat, lng combination\n",
    "for lat_lng in lat_lngs:\n",
    "    city = citipy.nearest_city(lat_lng[0], lat_lng[1]).city_name\n",
    "    \n",
    "    # If the city is unique, then add it to a our cities list\n",
    "    if city not in cities:\n",
    "        cities.append(city)\n",
    "\n",
    "# Print the city count to confirm sufficient count\n",
    "len(cities)"
   ]
  },
  {
   "cell_type": "markdown",
   "metadata": {},
   "source": [
    "### Perform API Calls\n",
    "* Perform a weather check on each city using a series of successive API calls.\n",
    "* Include a print log of each city as it'sbeing processed (with the city number and city name).\n"
   ]
  },
  {
   "cell_type": "code",
   "execution_count": 3,
   "metadata": {
    "scrolled": true
   },
   "outputs": [
    {
     "name": "stdout",
     "output_type": "stream",
     "text": [
      "-----------------------------------------------------\n",
      "beginning Data Retrieval\n",
      "-----------------------------------------------------\n",
      "Processing City 1 | chhabra\n",
      "Processing City 2 | namibe\n",
      "Data missing for tumannyy, skipping...\n",
      "Processing City 4 | bluff\n",
      "Processing City 5 | kushmurun\n",
      "Processing City 6 | ushuaia\n",
      "Processing City 7 | port moresby\n",
      "Processing City 8 | busselton\n",
      "Processing City 9 | jamestown\n",
      "Processing City 10 | mataura\n",
      "Processing City 11 | cockburn town\n",
      "Processing City 12 | saint-francois\n",
      "Processing City 13 | esperance\n",
      "Processing City 14 | puerto del rosario\n",
      "Data missing for nizhneyansk, skipping...\n",
      "Processing City 16 | gunupur\n",
      "Data missing for taolanaro, skipping...\n",
      "Processing City 18 | butaritari\n",
      "Processing City 19 | dalvik\n",
      "Processing City 20 | calamar\n",
      "Processing City 21 | avarua\n",
      "Processing City 22 | codrington\n",
      "Processing City 23 | lebu\n",
      "Processing City 24 | lamlash\n",
      "Processing City 25 | tiksi\n",
      "Processing City 26 | katobu\n",
      "Processing City 27 | upernavik\n",
      "Processing City 28 | kavieng\n",
      "Processing City 29 | lakes entrance\n",
      "Processing City 30 | east london\n",
      "Processing City 31 | punta arenas\n",
      "Processing City 32 | san jeronimo\n",
      "Processing City 33 | dikson\n",
      "Processing City 34 | yumen\n",
      "Processing City 35 | barrow\n",
      "Processing City 36 | hami\n",
      "Processing City 37 | sao joao da barra\n",
      "Processing City 38 | dunedin\n",
      "Processing City 39 | tilichiki\n",
      "Processing City 40 | port elizabeth\n",
      "Processing City 41 | requena\n",
      "Processing City 42 | victoria\n",
      "Processing City 43 | ponta do sol\n",
      "Processing City 44 | ancud\n",
      "Processing City 45 | muros\n",
      "Data missing for barentsburg, skipping...\n",
      "Data missing for palabuhanratu, skipping...\n",
      "Processing City 48 | saint-pierre\n",
      "Processing City 49 | port alfred\n",
      "Processing City 50 | new norfolk\n",
      "Processing City 51 | kabugao\n",
      "Processing City 52 | port pirie\n",
      "Processing City 53 | iqaluit\n",
      "Processing City 54 | pangnirtung\n",
      "Processing City 55 | lavrentiya\n",
      "Processing City 56 | pevek\n",
      "Processing City 57 | fortuna\n",
      "Processing City 58 | cape girardeau\n",
      "Processing City 59 | qaanaaq\n",
      "Processing City 60 | daru\n",
      "Processing City 61 | airai\n",
      "Processing City 62 | rikitea\n",
      "Processing City 63 | mahibadhoo\n",
      "Processing City 64 | omsukchan\n",
      "Processing City 65 | san cristobal\n",
      "Processing City 66 | hamilton\n",
      "Processing City 67 | chuy\n",
      "Processing City 68 | mahebourg\n",
      "Processing City 69 | hasaki\n",
      "Processing City 70 | siedlce\n",
      "Processing City 71 | carnarvon\n",
      "Data missing for zhanatas, skipping...\n",
      "Processing City 73 | coquimbo\n",
      "Processing City 74 | hithadhoo\n",
      "Processing City 75 | portland\n",
      "Processing City 76 | nsoko\n",
      "Processing City 77 | talnakh\n",
      "Processing City 78 | joshimath\n",
      "Processing City 79 | provideniya\n",
      "Processing City 80 | tura\n",
      "Processing City 81 | tabou\n",
      "Processing City 82 | xiongzhou\n",
      "Data missing for alotau, skipping...\n",
      "Processing City 84 | djougou\n",
      "Processing City 85 | ribeira grande\n",
      "Processing City 86 | churapcha\n",
      "Processing City 87 | bud\n",
      "Data missing for amderma, skipping...\n",
      "Data missing for vaitupu, skipping...\n",
      "Processing City 90 | castro\n",
      "Processing City 91 | hermanus\n",
      "Processing City 92 | lompoc\n",
      "Processing City 93 | mendi\n",
      "Processing City 94 | vanimo\n",
      "Data missing for grand river south east, skipping...\n",
      "Processing City 96 | kahului\n",
      "Processing City 97 | turukhansk\n",
      "Processing City 98 | torbay\n",
      "Processing City 99 | saint george\n",
      "Processing City 100 | albany\n",
      "Processing City 101 | atuona\n",
      "Processing City 102 | rocky mountain house\n",
      "Data missing for turtkul, skipping...\n",
      "Processing City 104 | saint-philippe\n",
      "Processing City 105 | kimbe\n",
      "Processing City 106 | yurla\n",
      "Processing City 107 | arraial do cabo\n",
      "Processing City 108 | hobart\n",
      "Processing City 109 | riviere-au-renard\n",
      "Processing City 110 | mukhen\n",
      "Processing City 111 | goderich\n",
      "Data missing for illoqqortoormiut, skipping...\n",
      "Processing City 113 | agadez\n",
      "Processing City 114 | chiang khong\n",
      "Processing City 115 | cavalcante\n",
      "Processing City 116 | bambous virieux\n",
      "Processing City 117 | clinton\n",
      "Processing City 118 | vardo\n",
      "Processing City 119 | marshall\n",
      "Processing City 120 | tanda\n",
      "Processing City 121 | talipparamba\n",
      "Processing City 122 | port blair\n",
      "Processing City 123 | cape town\n",
      "Processing City 124 | tak\n",
      "Processing City 125 | lorengau\n",
      "Data missing for formoso do araguaia, skipping...\n",
      "Processing City 127 | husavik\n",
      "Processing City 128 | sao raimundo nonato\n",
      "Processing City 129 | sorland\n",
      "Data missing for cumaribo, skipping...\n",
      "Processing City 131 | bredasdorp\n",
      "Data missing for canitas, skipping...\n",
      "Processing City 133 | nanortalik\n",
      "Processing City 134 | cedar rapids\n",
      "Processing City 135 | broken hill\n",
      "Processing City 136 | caravelas\n",
      "Processing City 137 | bethel\n",
      "Processing City 138 | tuktoyaktuk\n",
      "Processing City 139 | marzuq\n",
      "Data missing for toliary, skipping...\n",
      "Processing City 141 | thompson\n",
      "Processing City 142 | belaya gora\n",
      "Processing City 143 | souillac\n",
      "Processing City 144 | krasnoslobodsk\n",
      "Processing City 145 | manta\n",
      "Processing City 146 | khandyga\n",
      "Processing City 147 | bairiki\n",
      "Processing City 148 | chokurdakh\n",
      "Processing City 149 | lima\n",
      "Processing City 150 | vostok\n",
      "Processing City 151 | dharchula\n",
      "Processing City 152 | mananara\n",
      "Processing City 153 | kathu\n",
      "Processing City 154 | chapais\n",
      "Processing City 155 | sibilia\n",
      "Processing City 156 | novoagansk\n",
      "Processing City 157 | waingapu\n",
      "Processing City 158 | hatillo\n",
      "Processing City 159 | fairbanks\n",
      "Data missing for angra, skipping...\n",
      "Data missing for tapaua, skipping...\n",
      "Processing City 162 | dingle\n",
      "Processing City 163 | yellowknife\n",
      "Processing City 164 | vaini\n",
      "Processing City 165 | chimoio\n",
      "Processing City 166 | bengkulu\n",
      "Processing City 167 | rafraf\n",
      "Processing City 168 | kapaa\n",
      "Processing City 169 | murgud\n",
      "Processing City 170 | yar-sale\n",
      "Processing City 171 | kaitangata\n",
      "Processing City 172 | leningradskiy\n",
      "Data missing for tiruvottiyur, skipping...\n",
      "Processing City 174 | puerto ayora\n",
      "Processing City 175 | grand gaube\n",
      "Processing City 176 | vila velha\n",
      "Processing City 177 | saposoa\n",
      "Processing City 178 | sabang\n",
      "Processing City 179 | kununurra\n",
      "Processing City 180 | bloomfield\n",
      "Processing City 181 | normal\n",
      "Processing City 182 | slonim\n",
      "Processing City 183 | paramonga\n",
      "Processing City 184 | bajil\n",
      "Processing City 185 | tezu\n",
      "Processing City 186 | kodiak\n",
      "Processing City 187 | khovu-aksy\n",
      "Processing City 188 | kongolo\n",
      "Data missing for belushya guba, skipping...\n",
      "Processing City 190 | khowst\n",
      "Processing City 191 | clyde river\n",
      "Processing City 192 | praia\n",
      "Processing City 193 | inhambane\n",
      "Processing City 194 | hambantota\n",
      "Processing City 195 | crestview\n",
      "Data missing for sentyabrskiy, skipping...\n",
      "Processing City 197 | port hardy\n",
      "Processing City 198 | ruwi\n",
      "Data missing for saleaula, skipping...\n",
      "Processing City 200 | hualmay\n",
      "Processing City 201 | cravo norte\n",
      "Processing City 202 | sitka\n",
      "Processing City 203 | mar del plata\n",
      "Processing City 204 | alekseyevsk\n",
      "Processing City 205 | lokosovo\n",
      "Processing City 206 | la ronge\n",
      "Processing City 207 | kavaratti\n",
      "Processing City 208 | alugan\n",
      "Processing City 209 | nyurba\n",
      "Processing City 210 | fort nelson\n",
      "Processing City 211 | winnemucca\n",
      "Processing City 212 | krasnoselkup\n",
      "Processing City 213 | hilo\n",
      "Processing City 214 | ust-kuyga\n",
      "Processing City 215 | hov\n",
      "Processing City 216 | valparai\n",
      "Processing City 217 | jalu\n",
      "Processing City 218 | ponta delgada\n",
      "Processing City 219 | jinchang\n",
      "Processing City 220 | simi\n",
      "Processing City 221 | presidencia roque saenz pena\n",
      "Processing City 222 | vao\n",
      "Processing City 223 | trostberg\n",
      "Processing City 224 | baft\n",
      "Processing City 225 | vila franca do campo\n",
      "Processing City 226 | wanning\n",
      "Processing City 227 | bay roberts\n",
      "Processing City 228 | rakaia\n",
      "Processing City 229 | pisco\n",
      "Processing City 230 | merauke\n",
      "Processing City 231 | olesno\n",
      "Processing City 232 | aktau\n",
      "Processing City 233 | katherine\n",
      "Processing City 234 | ahipara\n",
      "Data missing for cheuskiny, skipping...\n",
      "Processing City 236 | bacolod\n",
      "Processing City 237 | burnie\n",
      "Processing City 238 | florianopolis\n",
      "Processing City 239 | jardim\n",
      "Processing City 240 | rawson\n",
      "Processing City 241 | utrera\n",
      "Processing City 242 | ust-tsilma\n",
      "Processing City 243 | tuatapere\n",
      "Processing City 244 | lagoa\n",
      "Processing City 245 | bend\n",
      "Processing City 246 | huarmey\n",
      "Data missing for karamea, skipping...\n",
      "Processing City 248 | atar\n",
      "Processing City 249 | stephenville\n",
      "Processing City 250 | myitkyina\n",
      "Processing City 251 | la rioja\n",
      "Processing City 252 | norman wells\n",
      "Processing City 253 | leh\n"
     ]
    },
    {
     "name": "stdout",
     "output_type": "stream",
     "text": [
      "Processing City 254 | adrar\n",
      "Processing City 255 | nikolskoye\n",
      "Processing City 256 | tahta\n",
      "Processing City 257 | kichera\n",
      "Processing City 258 | saldanha\n",
      "Processing City 259 | nowy dwor mazowiecki\n",
      "Processing City 260 | san patricio\n",
      "Processing City 261 | kautokeino\n",
      "Processing City 262 | ouallam\n",
      "Processing City 263 | imphal\n",
      "Processing City 264 | kuryk\n",
      "Processing City 265 | karasjok\n",
      "Processing City 266 | zhigansk\n",
      "Processing City 267 | catumbela\n",
      "Processing City 268 | elko\n",
      "Processing City 269 | soskovo\n",
      "Processing City 270 | touho\n",
      "Processing City 271 | haines junction\n",
      "Processing City 272 | doha\n",
      "Data missing for tsihombe, skipping...\n",
      "Processing City 274 | port keats\n",
      "Processing City 275 | katsuura\n",
      "Processing City 276 | tayshet\n",
      "Processing City 277 | verdun\n",
      "Processing City 278 | geraldton\n",
      "Processing City 279 | beringovskiy\n",
      "Processing City 280 | atambua\n",
      "Processing City 281 | chara\n",
      "Processing City 282 | poum\n",
      "Processing City 283 | kisangani\n",
      "Processing City 284 | chifeng\n",
      "Data missing for hihifo, skipping...\n",
      "Processing City 286 | mill valley\n",
      "Processing City 287 | honghu\n",
      "Processing City 288 | kabinda\n",
      "Processing City 289 | manokwari\n",
      "Processing City 290 | sussex\n",
      "Processing City 291 | darhan\n",
      "Processing City 292 | cidreira\n",
      "Processing City 293 | alenquer\n",
      "Processing City 294 | faanui\n",
      "Processing City 295 | banda aceh\n",
      "Processing City 296 | khatanga\n",
      "Processing City 297 | nisia floresta\n",
      "Processing City 298 | sayyan\n",
      "Processing City 299 | qasigiannguit\n",
      "Processing City 300 | jishou\n",
      "Processing City 301 | skjervoy\n",
      "Processing City 302 | thinadhoo\n",
      "Processing City 303 | pochutla\n",
      "Data missing for tawnat, skipping...\n",
      "Processing City 305 | kerema\n",
      "Processing City 306 | saskylakh\n",
      "Processing City 307 | raga\n",
      "Processing City 308 | semey\n",
      "Processing City 309 | kapoeta\n",
      "Processing City 310 | sao borja\n",
      "Processing City 311 | umea\n",
      "Processing City 312 | calama\n",
      "Data missing for hunza, skipping...\n",
      "Processing City 314 | sao felix do xingu\n",
      "Processing City 315 | gravatai\n",
      "Processing City 316 | palenque\n",
      "Processing City 317 | baykit\n",
      "Processing City 318 | yuzhou\n",
      "Processing City 319 | twentynine palms\n",
      "Processing City 320 | gwembe\n",
      "Processing City 321 | mount isa\n",
      "Processing City 322 | ayan\n",
      "Processing City 323 | kieta\n",
      "Processing City 324 | safranbolu\n",
      "Data missing for bolungarvik, skipping...\n",
      "Processing City 326 | tessalit\n",
      "Processing City 327 | garowe\n",
      "Processing City 328 | ambon\n",
      "Processing City 329 | shimoda\n",
      "Processing City 330 | matay\n",
      "Processing City 331 | tasiilaq\n",
      "Processing City 332 | hervey bay\n",
      "Data missing for chagda, skipping...\n",
      "Processing City 334 | praia da vitoria\n",
      "Processing City 335 | kodinsk\n",
      "Processing City 336 | vestmannaeyjar\n",
      "Processing City 337 | punta alta\n",
      "Data missing for ust-kamchatsk, skipping...\n",
      "Processing City 339 | polunochnoye\n",
      "Data missing for falealupo, skipping...\n",
      "Processing City 341 | awbari\n",
      "Processing City 342 | batsfjord\n",
      "Processing City 343 | escarcega\n",
      "Processing City 344 | olafsvik\n",
      "Processing City 345 | sao luiz gonzaga\n",
      "Processing City 346 | junagarh\n",
      "Processing City 347 | boa vista\n",
      "Processing City 348 | ilulissat\n",
      "Processing City 349 | coronado\n",
      "Processing City 350 | maldonado\n",
      "Processing City 351 | shakawe\n",
      "Processing City 352 | plettenberg bay\n",
      "Processing City 353 | sao filipe\n",
      "Processing City 354 | sinnamary\n",
      "Processing City 355 | terrasini\n",
      "Processing City 356 | deputatskiy\n",
      "Processing City 357 | ishigaki\n",
      "Processing City 358 | larsnes\n",
      "Processing City 359 | mount gambier\n",
      "Data missing for attawapiskat, skipping...\n",
      "Processing City 361 | severo-kurilsk\n",
      "Processing City 362 | acajutla\n",
      "Data missing for lolua, skipping...\n",
      "Processing City 364 | aripuana\n",
      "Processing City 365 | muzhi\n",
      "Processing City 366 | georgetown\n",
      "Processing City 367 | college\n",
      "Processing City 368 | sept-iles\n",
      "Processing City 369 | kruisfontein\n",
      "Processing City 370 | xuddur\n",
      "Processing City 371 | aklavik\n",
      "Processing City 372 | evensk\n",
      "Processing City 373 | guerrero negro\n",
      "Processing City 374 | dovers\n",
      "Data missing for riaba, skipping...\n",
      "Processing City 376 | si bun ruang\n",
      "Processing City 377 | tubuala\n",
      "Processing City 378 | alcudia\n",
      "Processing City 379 | cherskiy\n",
      "Processing City 380 | karratha\n",
      "Processing City 381 | santa marta\n",
      "Processing City 382 | kayerkan\n",
      "Processing City 383 | rio gallegos\n",
      "Processing City 384 | redmond\n",
      "Processing City 385 | sabha\n",
      "Processing City 386 | mali\n",
      "Processing City 387 | eyl\n",
      "Processing City 388 | buyukcavuslu\n",
      "Processing City 389 | anshun\n",
      "Processing City 390 | balaipungut\n",
      "Data missing for eskasem, skipping...\n",
      "Data missing for daxian, skipping...\n",
      "Data missing for buqayq, skipping...\n",
      "Processing City 394 | komsomolskiy\n",
      "Processing City 395 | dunmore east\n",
      "Processing City 396 | dzilam gonzalez\n",
      "Processing City 397 | tamiahua\n",
      "Processing City 398 | dzitas\n",
      "Processing City 399 | buala\n",
      "Processing City 400 | emerald\n",
      "Processing City 401 | fomboni\n",
      "Processing City 402 | oxbow\n",
      "Processing City 403 | aykhal\n",
      "Processing City 404 | xining\n",
      "Processing City 405 | nikko\n",
      "Processing City 406 | mookane\n",
      "Processing City 407 | carnot\n",
      "Processing City 408 | santa lucia\n",
      "Processing City 409 | tautira\n",
      "Processing City 410 | alofi\n",
      "Processing City 411 | renningen\n",
      "Processing City 412 | houma\n",
      "Processing City 413 | xihua\n",
      "Processing City 414 | eirunepe\n",
      "Processing City 415 | mehamn\n",
      "Processing City 416 | male\n",
      "Processing City 417 | tete\n",
      "Processing City 418 | sisimiut\n",
      "Processing City 419 | kermanshah\n",
      "Processing City 420 | svetlogorsk\n",
      "Processing City 421 | narsaq\n",
      "Data missing for longlac, skipping...\n",
      "Processing City 423 | gorele\n",
      "Processing City 424 | constitucion\n",
      "Processing City 425 | zelenoborsk\n",
      "Processing City 426 | luderitz\n",
      "Processing City 427 | kawalu\n",
      "Processing City 428 | half moon bay\n",
      "Processing City 429 | litovko\n",
      "Processing City 430 | nago\n",
      "Processing City 431 | karaton\n",
      "Processing City 432 | amuntai\n",
      "Processing City 433 | lata\n",
      "Processing City 434 | urcos\n",
      "Processing City 435 | suzun\n",
      "Processing City 436 | north bend\n",
      "Processing City 437 | shelburne\n",
      "Processing City 438 | warsaw\n",
      "Processing City 439 | zhumadian\n",
      "Processing City 440 | giulianova\n",
      "Processing City 441 | longyearbyen\n",
      "Processing City 442 | erzin\n",
      "Processing City 443 | keti bandar\n",
      "Processing City 444 | santa rosa\n",
      "Processing City 445 | vanavara\n",
      "Processing City 446 | port-cartier\n",
      "Processing City 447 | marrakesh\n",
      "Processing City 448 | curup\n",
      "Data missing for kadykchan, skipping...\n",
      "Processing City 450 | big spring\n",
      "Processing City 451 | ostrovnoy\n",
      "Processing City 452 | chakia\n",
      "Processing City 453 | benghazi\n",
      "Processing City 454 | veraval\n",
      "Processing City 455 | salalah\n",
      "Processing City 456 | denpasar\n",
      "Processing City 457 | zabol\n",
      "Processing City 458 | jining\n",
      "Processing City 459 | elin pelin\n",
      "Processing City 460 | srednekolymsk\n",
      "Processing City 461 | zheleznodorozhnyy\n",
      "Processing City 462 | ancona\n",
      "Processing City 463 | grindavik\n",
      "Processing City 464 | warrington\n",
      "Processing City 465 | kozhva\n",
      "Data missing for ngukurr, skipping...\n",
      "Processing City 467 | auki\n",
      "Processing City 468 | corcoran\n",
      "Processing City 469 | kaputa\n",
      "Processing City 470 | paamiut\n",
      "Processing City 471 | hofn\n",
      "Processing City 472 | amga\n",
      "Processing City 473 | mayor pablo lagerenza\n",
      "Processing City 474 | juneau\n",
      "Processing City 475 | morganton\n",
      "Data missing for halalo, skipping...\n",
      "Processing City 477 | tahe\n",
      "Processing City 478 | kathmandu\n",
      "Processing City 479 | waitati\n",
      "Processing City 480 | thakurgaon\n",
      "Processing City 481 | outlook\n",
      "Processing City 482 | cordele\n",
      "Processing City 483 | avera\n",
      "Processing City 484 | abilene\n",
      "Data missing for samusu, skipping...\n",
      "Processing City 486 | tateyama\n",
      "Processing City 487 | syktyvkar\n",
      "Processing City 488 | tsabong\n",
      "Processing City 489 | saint-georges\n",
      "Processing City 490 | san matias\n",
      "Processing City 491 | severnoye\n",
      "Processing City 492 | boyabat\n",
      "Processing City 493 | cayenne\n",
      "Processing City 494 | maues\n",
      "Processing City 495 | naze\n",
      "Processing City 496 | sarangani\n",
      "Processing City 497 | dongsheng\n",
      "Processing City 498 | tromso\n",
      "Processing City 499 | sola\n",
      "Processing City 500 | mykolayivka\n",
      "Processing City 501 | aumbay\n",
      "Processing City 502 | sawang daen din\n",
      "Processing City 503 | greenville\n",
      "Data missing for sedelnikovo, skipping...\n",
      "Processing City 505 | los llanos de aridane\n",
      "Processing City 506 | bolitoc\n",
      "Data missing for tawkar, skipping...\n",
      "Processing City 508 | bagepalli\n",
      "Processing City 509 | cabo san lucas\n",
      "Processing City 510 | wilmington\n",
      "Processing City 511 | kuytun\n"
     ]
    },
    {
     "name": "stdout",
     "output_type": "stream",
     "text": [
      "Processing City 512 | kupang\n",
      "Processing City 513 | vila do maio\n",
      "Processing City 514 | hay river\n",
      "Processing City 515 | high level\n",
      "Processing City 516 | meulaboh\n",
      "Processing City 517 | ittiri\n",
      "Processing City 518 | bathsheba\n",
      "Processing City 519 | namatanai\n",
      "Processing City 520 | alice springs\n",
      "Data missing for ambodifototra, skipping...\n",
      "Processing City 522 | florence\n",
      "Processing City 523 | santa maria\n",
      "Processing City 524 | khrebtovaya\n",
      "Data missing for dien bien, skipping...\n",
      "Processing City 526 | kutum\n",
      "Processing City 527 | north platte\n",
      "Processing City 528 | gao\n",
      "Processing City 529 | mackay\n",
      "Processing City 530 | touros\n",
      "Processing City 531 | camacari\n",
      "Processing City 532 | nome\n",
      "Processing City 533 | marivan\n",
      "Processing City 534 | tandalti\n",
      "Processing City 535 | catuday\n",
      "Processing City 536 | tamandare\n",
      "Processing City 537 | vakhrushev\n",
      "Processing City 538 | ushibuka\n",
      "Processing City 539 | krishnanagar\n",
      "Processing City 540 | qiyang\n",
      "Processing City 541 | neiafu\n",
      "Processing City 542 | shaoyang\n",
      "Processing City 543 | funadhoo\n",
      "Processing City 544 | panguna\n",
      "Processing City 545 | carutapera\n",
      "Processing City 546 | uruzgan\n",
      "Processing City 547 | trindade\n",
      "Processing City 548 | ulladulla\n",
      "Processing City 549 | bereznehuvate\n",
      "Processing City 550 | laguna\n",
      "Data missing for mocambique, skipping...\n",
      "Processing City 552 | suslovo\n",
      "Processing City 553 | flinders\n",
      "Processing City 554 | tevriz\n",
      "Processing City 555 | yabelo\n",
      "Processing City 556 | kizilskoye\n",
      "Processing City 557 | lodeynoye pole\n",
      "Processing City 558 | senanga\n",
      "Processing City 559 | sassandra\n",
      "Processing City 560 | chalchihuites\n",
      "Processing City 561 | nioaque\n",
      "Processing City 562 | kaupanger\n",
      "Processing City 563 | tonneins\n",
      "Processing City 564 | whitianga\n",
      "Processing City 565 | novovasylivka\n",
      "Processing City 566 | ostrov\n",
      "Processing City 567 | salvador\n",
      "Processing City 568 | tukan\n",
      "Processing City 569 | westport\n",
      "Processing City 570 | dunmore town\n",
      "Processing City 571 | menongue\n",
      "Processing City 572 | gigmoto\n",
      "Processing City 573 | florida\n",
      "Processing City 574 | pavino\n",
      "Processing City 575 | novyy urengoy\n",
      "Processing City 576 | kailua\n",
      "Data missing for mys shmidta, skipping...\n",
      "Processing City 578 | pasadena\n",
      "Processing City 579 | dali\n",
      "Processing City 580 | dwarka\n",
      "Processing City 581 | villa union\n",
      "Processing City 582 | mgandu\n",
      "Processing City 583 | nemuro\n",
      "Processing City 584 | cepu\n",
      "Processing City 585 | aksarka\n",
      "Processing City 586 | la union\n",
      "Processing City 587 | porto-vecchio\n",
      "Processing City 588 | port lincoln\n",
      "Processing City 589 | madang\n",
      "Processing City 590 | tual\n",
      "Processing City 591 | nishihara\n",
      "Processing City 592 | kulhudhuffushi\n",
      "Processing City 593 | storforshei\n",
      "Processing City 594 | piacabucu\n",
      "Data missing for buariki, skipping...\n",
      "Processing City 596 | sibu\n",
      "Processing City 597 | mormugao\n",
      "Processing City 598 | ukiah\n",
      "Processing City 599 | nouakchott\n",
      "Processing City 600 | edd\n",
      "Processing City 601 | alyangula\n",
      "Data missing for louisbourg, skipping...\n",
      "Processing City 603 | pandan\n",
      "Processing City 604 | abay\n",
      "Processing City 605 | honningsvag\n",
      "Processing City 606 | bilma\n",
      "-----------------------------------------------------\n",
      "Data Retrieval Complete\n",
      "-----------------------------------------------------\n"
     ]
    }
   ],
   "source": [
    "#url for api call\n",
    "url = \"http://api.openweathermap.org/data/2.5/weather?units=Imperial\"\n",
    "#build partial query URL\n",
    "query_url = url + \"&appid=\" + weather_api_key\n",
    "\n",
    "#create lists for try/except loop\n",
    "city = []\n",
    "latitude = []\n",
    "longitude = []\n",
    "temperature = []\n",
    "humidity = []\n",
    "clouds = []\n",
    "wind = []\n",
    "\n",
    "#loop through \n",
    "print(\"-----------------------------------------------------\")\n",
    "print(\"beginning Data Retrieval\")\n",
    "print(\"-----------------------------------------------------\")\n",
    "\n",
    "for x in range(len(cities)):\n",
    "    try:\n",
    "        response = requests.get(query_url + \"&q=\" + cities[x]).json()\n",
    "        city.append(response['name'])\n",
    "        latitude.append(response['coord']['lat'])\n",
    "        longitude.append(response['coord']['lon'])\n",
    "        temperature.append(response['main']['temp'])\n",
    "        humidity.append(response['main']['humidity'])\n",
    "        clouds.append(response['clouds']['all'])\n",
    "        wind.append(response['wind']['speed'])\n",
    "        print(f\"Processing City {x + 1} | {cities[x]}\")\n",
    "    except KeyError:\n",
    "        print(f\"Data missing for {cities[x]}, skipping...\")\n",
    "print(\"-----------------------------------------------------\")\n",
    "print(\"Data Retrieval Complete\")\n",
    "print(\"-----------------------------------------------------\")"
   ]
  },
  {
   "cell_type": "markdown",
   "metadata": {},
   "source": [
    "### Convert Raw Data to DataFrame\n",
    "* Export the city data into a .csv.\n",
    "* Display the DataFrame"
   ]
  },
  {
   "cell_type": "code",
   "execution_count": 4,
   "metadata": {},
   "outputs": [
    {
     "data": {
      "text/html": [
       "<div>\n",
       "<style scoped>\n",
       "    .dataframe tbody tr th:only-of-type {\n",
       "        vertical-align: middle;\n",
       "    }\n",
       "\n",
       "    .dataframe tbody tr th {\n",
       "        vertical-align: top;\n",
       "    }\n",
       "\n",
       "    .dataframe thead th {\n",
       "        text-align: right;\n",
       "    }\n",
       "</style>\n",
       "<table border=\"1\" class=\"dataframe\">\n",
       "  <thead>\n",
       "    <tr style=\"text-align: right;\">\n",
       "      <th></th>\n",
       "      <th>City</th>\n",
       "      <th>Lat</th>\n",
       "      <th>Lng</th>\n",
       "      <th>Max Temp</th>\n",
       "      <th>Humidity</th>\n",
       "      <th>Cloudiness</th>\n",
       "      <th>Wind Speed</th>\n",
       "    </tr>\n",
       "  </thead>\n",
       "  <tbody>\n",
       "    <tr>\n",
       "      <th>0</th>\n",
       "      <td>Chhabra</td>\n",
       "      <td>24.6667</td>\n",
       "      <td>76.8333</td>\n",
       "      <td>80.78</td>\n",
       "      <td>18</td>\n",
       "      <td>0</td>\n",
       "      <td>1.77</td>\n",
       "    </tr>\n",
       "    <tr>\n",
       "      <th>1</th>\n",
       "      <td>Mossamedes</td>\n",
       "      <td>-15.1961</td>\n",
       "      <td>12.1522</td>\n",
       "      <td>79.99</td>\n",
       "      <td>62</td>\n",
       "      <td>9</td>\n",
       "      <td>1.79</td>\n",
       "    </tr>\n",
       "    <tr>\n",
       "      <th>2</th>\n",
       "      <td>Bluff</td>\n",
       "      <td>-46.6000</td>\n",
       "      <td>168.3333</td>\n",
       "      <td>54.00</td>\n",
       "      <td>89</td>\n",
       "      <td>100</td>\n",
       "      <td>4.00</td>\n",
       "    </tr>\n",
       "    <tr>\n",
       "      <th>3</th>\n",
       "      <td>Kushmurun</td>\n",
       "      <td>52.4503</td>\n",
       "      <td>64.6311</td>\n",
       "      <td>32.81</td>\n",
       "      <td>90</td>\n",
       "      <td>0</td>\n",
       "      <td>3.00</td>\n",
       "    </tr>\n",
       "    <tr>\n",
       "      <th>4</th>\n",
       "      <td>Ushuaia</td>\n",
       "      <td>-54.8000</td>\n",
       "      <td>-68.3000</td>\n",
       "      <td>44.60</td>\n",
       "      <td>81</td>\n",
       "      <td>90</td>\n",
       "      <td>20.71</td>\n",
       "    </tr>\n",
       "    <tr>\n",
       "      <th>...</th>\n",
       "      <td>...</td>\n",
       "      <td>...</td>\n",
       "      <td>...</td>\n",
       "      <td>...</td>\n",
       "      <td>...</td>\n",
       "      <td>...</td>\n",
       "      <td>...</td>\n",
       "    </tr>\n",
       "    <tr>\n",
       "      <th>550</th>\n",
       "      <td>Alyangula</td>\n",
       "      <td>-13.8483</td>\n",
       "      <td>136.4192</td>\n",
       "      <td>86.00</td>\n",
       "      <td>62</td>\n",
       "      <td>49</td>\n",
       "      <td>6.91</td>\n",
       "    </tr>\n",
       "    <tr>\n",
       "      <th>551</th>\n",
       "      <td>Pandan</td>\n",
       "      <td>14.0453</td>\n",
       "      <td>124.1694</td>\n",
       "      <td>80.53</td>\n",
       "      <td>85</td>\n",
       "      <td>87</td>\n",
       "      <td>7.31</td>\n",
       "    </tr>\n",
       "    <tr>\n",
       "      <th>552</th>\n",
       "      <td>Abay</td>\n",
       "      <td>49.6311</td>\n",
       "      <td>72.8539</td>\n",
       "      <td>23.00</td>\n",
       "      <td>93</td>\n",
       "      <td>0</td>\n",
       "      <td>6.71</td>\n",
       "    </tr>\n",
       "    <tr>\n",
       "      <th>553</th>\n",
       "      <td>Honningsvåg</td>\n",
       "      <td>70.9821</td>\n",
       "      <td>25.9704</td>\n",
       "      <td>31.60</td>\n",
       "      <td>64</td>\n",
       "      <td>100</td>\n",
       "      <td>20.67</td>\n",
       "    </tr>\n",
       "    <tr>\n",
       "      <th>554</th>\n",
       "      <td>Bilma</td>\n",
       "      <td>18.6853</td>\n",
       "      <td>12.9164</td>\n",
       "      <td>82.85</td>\n",
       "      <td>8</td>\n",
       "      <td>0</td>\n",
       "      <td>10.36</td>\n",
       "    </tr>\n",
       "  </tbody>\n",
       "</table>\n",
       "<p>555 rows × 7 columns</p>\n",
       "</div>"
      ],
      "text/plain": [
       "            City      Lat       Lng  Max Temp  Humidity  Cloudiness  \\\n",
       "0        Chhabra  24.6667   76.8333     80.78        18           0   \n",
       "1     Mossamedes -15.1961   12.1522     79.99        62           9   \n",
       "2          Bluff -46.6000  168.3333     54.00        89         100   \n",
       "3      Kushmurun  52.4503   64.6311     32.81        90           0   \n",
       "4        Ushuaia -54.8000  -68.3000     44.60        81          90   \n",
       "..           ...      ...       ...       ...       ...         ...   \n",
       "550    Alyangula -13.8483  136.4192     86.00        62          49   \n",
       "551       Pandan  14.0453  124.1694     80.53        85          87   \n",
       "552         Abay  49.6311   72.8539     23.00        93           0   \n",
       "553  Honningsvåg  70.9821   25.9704     31.60        64         100   \n",
       "554        Bilma  18.6853   12.9164     82.85         8           0   \n",
       "\n",
       "     Wind Speed  \n",
       "0          1.77  \n",
       "1          1.79  \n",
       "2          4.00  \n",
       "3          3.00  \n",
       "4         20.71  \n",
       "..          ...  \n",
       "550        6.91  \n",
       "551        7.31  \n",
       "552        6.71  \n",
       "553       20.67  \n",
       "554       10.36  \n",
       "\n",
       "[555 rows x 7 columns]"
      ]
     },
     "execution_count": 4,
     "metadata": {},
     "output_type": "execute_result"
    }
   ],
   "source": [
    "#convert city data into DataFrame\n",
    "\n",
    "city_df = pd.DataFrame({\"City\": city,\n",
    "                       \"Lat\": latitude,\n",
    "                       \"Lng\": longitude,\n",
    "                       \"Max Temp\": temperature,\n",
    "                       \"Humidity\": humidity,\n",
    "                       \"Cloudiness\":clouds,\n",
    "                       \"Wind Speed\": wind})\n",
    "city_df"
   ]
  },
  {
   "cell_type": "code",
   "execution_count": 5,
   "metadata": {},
   "outputs": [
    {
     "data": {
      "text/html": [
       "<div>\n",
       "<style scoped>\n",
       "    .dataframe tbody tr th:only-of-type {\n",
       "        vertical-align: middle;\n",
       "    }\n",
       "\n",
       "    .dataframe tbody tr th {\n",
       "        vertical-align: top;\n",
       "    }\n",
       "\n",
       "    .dataframe thead th {\n",
       "        text-align: right;\n",
       "    }\n",
       "</style>\n",
       "<table border=\"1\" class=\"dataframe\">\n",
       "  <thead>\n",
       "    <tr style=\"text-align: right;\">\n",
       "      <th></th>\n",
       "      <th>Lat</th>\n",
       "      <th>Lng</th>\n",
       "      <th>Max Temp</th>\n",
       "      <th>Humidity</th>\n",
       "      <th>Cloudiness</th>\n",
       "      <th>Wind Speed</th>\n",
       "    </tr>\n",
       "  </thead>\n",
       "  <tbody>\n",
       "    <tr>\n",
       "      <th>count</th>\n",
       "      <td>555.000000</td>\n",
       "      <td>555.000000</td>\n",
       "      <td>555.000000</td>\n",
       "      <td>555.000000</td>\n",
       "      <td>555.000000</td>\n",
       "      <td>555.000000</td>\n",
       "    </tr>\n",
       "    <tr>\n",
       "      <th>mean</th>\n",
       "      <td>21.297820</td>\n",
       "      <td>23.051944</td>\n",
       "      <td>58.590090</td>\n",
       "      <td>69.990991</td>\n",
       "      <td>52.171171</td>\n",
       "      <td>7.899261</td>\n",
       "    </tr>\n",
       "    <tr>\n",
       "      <th>std</th>\n",
       "      <td>32.899309</td>\n",
       "      <td>91.546241</td>\n",
       "      <td>21.700845</td>\n",
       "      <td>22.367740</td>\n",
       "      <td>38.551872</td>\n",
       "      <td>5.641878</td>\n",
       "    </tr>\n",
       "    <tr>\n",
       "      <th>min</th>\n",
       "      <td>-54.800000</td>\n",
       "      <td>-175.200000</td>\n",
       "      <td>-9.080000</td>\n",
       "      <td>1.000000</td>\n",
       "      <td>0.000000</td>\n",
       "      <td>0.160000</td>\n",
       "    </tr>\n",
       "    <tr>\n",
       "      <th>25%</th>\n",
       "      <td>-6.196400</td>\n",
       "      <td>-58.059300</td>\n",
       "      <td>43.330000</td>\n",
       "      <td>59.000000</td>\n",
       "      <td>12.500000</td>\n",
       "      <td>3.440000</td>\n",
       "    </tr>\n",
       "    <tr>\n",
       "      <th>50%</th>\n",
       "      <td>25.500000</td>\n",
       "      <td>27.849200</td>\n",
       "      <td>63.230000</td>\n",
       "      <td>75.000000</td>\n",
       "      <td>55.000000</td>\n",
       "      <td>6.670000</td>\n",
       "    </tr>\n",
       "    <tr>\n",
       "      <th>75%</th>\n",
       "      <td>48.989500</td>\n",
       "      <td>102.516650</td>\n",
       "      <td>77.025000</td>\n",
       "      <td>88.000000</td>\n",
       "      <td>90.000000</td>\n",
       "      <td>10.995000</td>\n",
       "    </tr>\n",
       "    <tr>\n",
       "      <th>max</th>\n",
       "      <td>78.218600</td>\n",
       "      <td>179.316700</td>\n",
       "      <td>99.030000</td>\n",
       "      <td>100.000000</td>\n",
       "      <td>100.000000</td>\n",
       "      <td>34.520000</td>\n",
       "    </tr>\n",
       "  </tbody>\n",
       "</table>\n",
       "</div>"
      ],
      "text/plain": [
       "              Lat         Lng    Max Temp    Humidity  Cloudiness  Wind Speed\n",
       "count  555.000000  555.000000  555.000000  555.000000  555.000000  555.000000\n",
       "mean    21.297820   23.051944   58.590090   69.990991   52.171171    7.899261\n",
       "std     32.899309   91.546241   21.700845   22.367740   38.551872    5.641878\n",
       "min    -54.800000 -175.200000   -9.080000    1.000000    0.000000    0.160000\n",
       "25%     -6.196400  -58.059300   43.330000   59.000000   12.500000    3.440000\n",
       "50%     25.500000   27.849200   63.230000   75.000000   55.000000    6.670000\n",
       "75%     48.989500  102.516650   77.025000   88.000000   90.000000   10.995000\n",
       "max     78.218600  179.316700   99.030000  100.000000  100.000000   34.520000"
      ]
     },
     "execution_count": 5,
     "metadata": {},
     "output_type": "execute_result"
    }
   ],
   "source": [
    "city_df.describe()"
   ]
  },
  {
   "cell_type": "markdown",
   "metadata": {},
   "source": [
    "## Inspect the data and remove the cities where the humidity > 100%.\n",
    "----\n",
    "Skip this step if there are no cities that have humidity > 100%. "
   ]
  },
  {
   "cell_type": "code",
   "execution_count": 6,
   "metadata": {},
   "outputs": [
    {
     "data": {
      "text/html": [
       "<div>\n",
       "<style scoped>\n",
       "    .dataframe tbody tr th:only-of-type {\n",
       "        vertical-align: middle;\n",
       "    }\n",
       "\n",
       "    .dataframe tbody tr th {\n",
       "        vertical-align: top;\n",
       "    }\n",
       "\n",
       "    .dataframe thead th {\n",
       "        text-align: right;\n",
       "    }\n",
       "</style>\n",
       "<table border=\"1\" class=\"dataframe\">\n",
       "  <thead>\n",
       "    <tr style=\"text-align: right;\">\n",
       "      <th></th>\n",
       "      <th>City</th>\n",
       "      <th>Lat</th>\n",
       "      <th>Lng</th>\n",
       "      <th>Max Temp</th>\n",
       "      <th>Humidity</th>\n",
       "      <th>Cloudiness</th>\n",
       "      <th>Wind Speed</th>\n",
       "    </tr>\n",
       "  </thead>\n",
       "  <tbody>\n",
       "  </tbody>\n",
       "</table>\n",
       "</div>"
      ],
      "text/plain": [
       "Empty DataFrame\n",
       "Columns: [City, Lat, Lng, Max Temp, Humidity, Cloudiness, Wind Speed]\n",
       "Index: []"
      ]
     },
     "execution_count": 6,
     "metadata": {},
     "output_type": "execute_result"
    }
   ],
   "source": [
    "humidity_df = city_df.loc[city_df[\"Humidity\"] > 100]\n",
    "\n",
    "humidity_df"
   ]
  },
  {
   "cell_type": "code",
   "execution_count": 7,
   "metadata": {},
   "outputs": [],
   "source": [
    "#  Get the indices of cities that have humidity over 100%.\n",
    "\n",
    "# there are no cities with a humidity over 100"
   ]
  },
  {
   "cell_type": "code",
   "execution_count": 8,
   "metadata": {},
   "outputs": [
    {
     "data": {
      "text/html": [
       "<div>\n",
       "<style scoped>\n",
       "    .dataframe tbody tr th:only-of-type {\n",
       "        vertical-align: middle;\n",
       "    }\n",
       "\n",
       "    .dataframe tbody tr th {\n",
       "        vertical-align: top;\n",
       "    }\n",
       "\n",
       "    .dataframe thead th {\n",
       "        text-align: right;\n",
       "    }\n",
       "</style>\n",
       "<table border=\"1\" class=\"dataframe\">\n",
       "  <thead>\n",
       "    <tr style=\"text-align: right;\">\n",
       "      <th></th>\n",
       "      <th>City</th>\n",
       "      <th>Lat</th>\n",
       "      <th>Lng</th>\n",
       "      <th>Max Temp</th>\n",
       "      <th>Humidity</th>\n",
       "      <th>Cloudiness</th>\n",
       "      <th>Wind Speed</th>\n",
       "    </tr>\n",
       "  </thead>\n",
       "  <tbody>\n",
       "    <tr>\n",
       "      <th>0</th>\n",
       "      <td>Chhabra</td>\n",
       "      <td>24.6667</td>\n",
       "      <td>76.8333</td>\n",
       "      <td>80.78</td>\n",
       "      <td>18</td>\n",
       "      <td>0</td>\n",
       "      <td>1.77</td>\n",
       "    </tr>\n",
       "    <tr>\n",
       "      <th>1</th>\n",
       "      <td>Mossamedes</td>\n",
       "      <td>-15.1961</td>\n",
       "      <td>12.1522</td>\n",
       "      <td>79.99</td>\n",
       "      <td>62</td>\n",
       "      <td>9</td>\n",
       "      <td>1.79</td>\n",
       "    </tr>\n",
       "    <tr>\n",
       "      <th>2</th>\n",
       "      <td>Bluff</td>\n",
       "      <td>-46.6000</td>\n",
       "      <td>168.3333</td>\n",
       "      <td>54.00</td>\n",
       "      <td>89</td>\n",
       "      <td>100</td>\n",
       "      <td>4.00</td>\n",
       "    </tr>\n",
       "    <tr>\n",
       "      <th>3</th>\n",
       "      <td>Kushmurun</td>\n",
       "      <td>52.4503</td>\n",
       "      <td>64.6311</td>\n",
       "      <td>32.81</td>\n",
       "      <td>90</td>\n",
       "      <td>0</td>\n",
       "      <td>3.00</td>\n",
       "    </tr>\n",
       "    <tr>\n",
       "      <th>4</th>\n",
       "      <td>Ushuaia</td>\n",
       "      <td>-54.8000</td>\n",
       "      <td>-68.3000</td>\n",
       "      <td>44.60</td>\n",
       "      <td>81</td>\n",
       "      <td>90</td>\n",
       "      <td>20.71</td>\n",
       "    </tr>\n",
       "    <tr>\n",
       "      <th>...</th>\n",
       "      <td>...</td>\n",
       "      <td>...</td>\n",
       "      <td>...</td>\n",
       "      <td>...</td>\n",
       "      <td>...</td>\n",
       "      <td>...</td>\n",
       "      <td>...</td>\n",
       "    </tr>\n",
       "    <tr>\n",
       "      <th>550</th>\n",
       "      <td>Alyangula</td>\n",
       "      <td>-13.8483</td>\n",
       "      <td>136.4192</td>\n",
       "      <td>86.00</td>\n",
       "      <td>62</td>\n",
       "      <td>49</td>\n",
       "      <td>6.91</td>\n",
       "    </tr>\n",
       "    <tr>\n",
       "      <th>551</th>\n",
       "      <td>Pandan</td>\n",
       "      <td>14.0453</td>\n",
       "      <td>124.1694</td>\n",
       "      <td>80.53</td>\n",
       "      <td>85</td>\n",
       "      <td>87</td>\n",
       "      <td>7.31</td>\n",
       "    </tr>\n",
       "    <tr>\n",
       "      <th>552</th>\n",
       "      <td>Abay</td>\n",
       "      <td>49.6311</td>\n",
       "      <td>72.8539</td>\n",
       "      <td>23.00</td>\n",
       "      <td>93</td>\n",
       "      <td>0</td>\n",
       "      <td>6.71</td>\n",
       "    </tr>\n",
       "    <tr>\n",
       "      <th>553</th>\n",
       "      <td>Honningsvåg</td>\n",
       "      <td>70.9821</td>\n",
       "      <td>25.9704</td>\n",
       "      <td>31.60</td>\n",
       "      <td>64</td>\n",
       "      <td>100</td>\n",
       "      <td>20.67</td>\n",
       "    </tr>\n",
       "    <tr>\n",
       "      <th>554</th>\n",
       "      <td>Bilma</td>\n",
       "      <td>18.6853</td>\n",
       "      <td>12.9164</td>\n",
       "      <td>82.85</td>\n",
       "      <td>8</td>\n",
       "      <td>0</td>\n",
       "      <td>10.36</td>\n",
       "    </tr>\n",
       "  </tbody>\n",
       "</table>\n",
       "<p>555 rows × 7 columns</p>\n",
       "</div>"
      ],
      "text/plain": [
       "            City      Lat       Lng  Max Temp  Humidity  Cloudiness  \\\n",
       "0        Chhabra  24.6667   76.8333     80.78        18           0   \n",
       "1     Mossamedes -15.1961   12.1522     79.99        62           9   \n",
       "2          Bluff -46.6000  168.3333     54.00        89         100   \n",
       "3      Kushmurun  52.4503   64.6311     32.81        90           0   \n",
       "4        Ushuaia -54.8000  -68.3000     44.60        81          90   \n",
       "..           ...      ...       ...       ...       ...         ...   \n",
       "550    Alyangula -13.8483  136.4192     86.00        62          49   \n",
       "551       Pandan  14.0453  124.1694     80.53        85          87   \n",
       "552         Abay  49.6311   72.8539     23.00        93           0   \n",
       "553  Honningsvåg  70.9821   25.9704     31.60        64         100   \n",
       "554        Bilma  18.6853   12.9164     82.85         8           0   \n",
       "\n",
       "     Wind Speed  \n",
       "0          1.77  \n",
       "1          1.79  \n",
       "2          4.00  \n",
       "3          3.00  \n",
       "4         20.71  \n",
       "..          ...  \n",
       "550        6.91  \n",
       "551        7.31  \n",
       "552        6.71  \n",
       "553       20.67  \n",
       "554       10.36  \n",
       "\n",
       "[555 rows x 7 columns]"
      ]
     },
     "execution_count": 8,
     "metadata": {},
     "output_type": "execute_result"
    }
   ],
   "source": [
    "# Make a new DataFrame equal to the city data to drop all humidity outliers by index.\n",
    "# Passing \"inplace=False\" will make a copy of the city_data DataFrame, which we call \"clean_city_data\".\n",
    "\n",
    "\n",
    "clean_city_data = city_df\n",
    "clean_city_data"
   ]
  },
  {
   "cell_type": "code",
   "execution_count": null,
   "metadata": {},
   "outputs": [],
   "source": []
  },
  {
   "cell_type": "markdown",
   "metadata": {},
   "source": [
    "## Plotting the Data\n",
    "* Use proper labeling of the plots using plot titles (including date of analysis) and axes labels.\n",
    "* Save the plotted figures as .pngs."
   ]
  },
  {
   "cell_type": "markdown",
   "metadata": {},
   "source": [
    "## Latitude vs. Temperature Plot"
   ]
  },
  {
   "cell_type": "code",
   "execution_count": 9,
   "metadata": {
    "scrolled": true
   },
   "outputs": [
    {
     "data": {
      "image/png": "[encoded data removed]",
      "text/plain": [
       "<Figure size 432x288 with 1 Axes>"
      ]
     },
     "metadata": {
      "needs_background": "light"
     },
     "output_type": "display_data"
    }
   ],
   "source": [
    "x_values = clean_city_data[\"Lat\"]\n",
    "y_values = clean_city_data[\"Max Temp\"]\n",
    "\n",
    "plt.scatter(x_values,y_values, alpha = .75)\n",
    "plt.title(\"City Latitude vs. Temperature\")\n",
    "plt.xlabel(\"Latitude\")\n",
    "plt.ylabel(\"Temperature\")\n",
    "plt.grid(True)\n",
    "\n",
    "#The code above plots weather temps vs latitude. We know that a latitude of 0 is the equator.\n",
    "#Assuming we have data from both the northern and southern hemisphere we should see an upside down U shape of the graph\n",
    "#This shape is because we expect our latitude numbers to range from positive to negative with 0 in the middle, higher temperatures should group around the 0 and trail off the farther we awway we get from 0, causing the upside down U shape."
   ]
  },
  {
   "cell_type": "markdown",
   "metadata": {},
   "source": [
    "## Latitude vs. Humidity Plot"
   ]
  },
  {
   "cell_type": "code",
   "execution_count": 10,
   "metadata": {},
   "outputs": [
    {
     "data": {
      "image/png": "[encoded data removed]",
      "text/plain": [
       "<Figure size 432x288 with 1 Axes>"
      ]
     },
     "metadata": {
      "needs_background": "light"
     },
     "output_type": "display_data"
    }
   ],
   "source": [
    "x_values = clean_city_data[\"Lat\"]\n",
    "y_values = clean_city_data[\"Humidity\"]\n",
    "\n",
    "plt.scatter(x_values,y_values, alpha = .75)\n",
    "plt.title(\"City Latitude vs. Humidity\")\n",
    "plt.xlabel(\"Latitude\")\n",
    "plt.ylabel(\"Humidity\")\n",
    "plt.grid(True)\n",
    "\n",
    "#The code above compares latitude to humidity.\n",
    "#This means it shows us the relative humidity level for each city in in a lat range.\n",
    "#We can see from the graph that high levels of humidity exist accross latitudes, with lower levels occuring but less frequently."
   ]
  },
  {
   "cell_type": "markdown",
   "metadata": {},
   "source": [
    "## Latitude vs. Cloudiness Plot"
   ]
  },
  {
   "cell_type": "code",
   "execution_count": 11,
   "metadata": {},
   "outputs": [
    {
     "data": {
      "image/png": "[encoded data removed]",
      "text/plain": [
       "<Figure size 432x288 with 1 Axes>"
      ]
     },
     "metadata": {
      "needs_background": "light"
     },
     "output_type": "display_data"
    }
   ],
   "source": [
    "x_values = clean_city_data[\"Lat\"]\n",
    "y_values = clean_city_data[\"Cloudiness\"]\n",
    "\n",
    "plt.scatter(x_values,y_values, alpha = .75)\n",
    "plt.title(\"City Latitude vs. Cloudiness\")\n",
    "plt.xlabel(\"Latitude\")\n",
    "plt.ylabel(\"Cloudiness\")\n",
    "plt.grid(True)\n",
    "\n",
    "#The code above plots latitude vs cloudiness\n",
    "#We can see from the chart that cloudiness is pretty level accross the board\n",
    "#every latitude pretty much has every level of cloudiness until you get closer to the poles, this tells me maybe cloudiness is more related to a factor that is no latitude."
   ]
  },
  {
   "cell_type": "markdown",
   "metadata": {},
   "source": [
    "## Latitude vs. Wind Speed Plot"
   ]
  },
  {
   "cell_type": "code",
   "execution_count": 12,
   "metadata": {},
   "outputs": [
    {
     "data": {
      "image/png": "[encoded data removed]",
      "text/plain": [
       "<Figure size 432x288 with 1 Axes>"
      ]
     },
     "metadata": {
      "needs_background": "light"
     },
     "output_type": "display_data"
    }
   ],
   "source": [
    "x_values = clean_city_data[\"Lat\"]\n",
    "y_values = clean_city_data[\"Wind Speed\"]\n",
    "\n",
    "plt.scatter(x_values,y_values, alpha = .75)\n",
    "plt.title(\"City Latitude vs. Wind Speed\")\n",
    "plt.xlabel(\"Latitude\")\n",
    "plt.ylabel(\"Wind Speed\")\n",
    "plt.grid(True)\n",
    "\n",
    "#the code above compares latitude vs wind speed\n",
    "#similar to cloudiness it looks like wind speed hold pretty consistant between 1mph and 20mph range accross all latitudes\n",
    "# we do see some potential outliers above the 20mph mark, we also see a slight dip in wind speed at latitudes between the -5 and 5 ticks on the x axis."
   ]
  },
  {
   "cell_type": "markdown",
   "metadata": {},
   "source": [
    "## Linear Regression"
   ]
  },
  {
   "cell_type": "code",
   "execution_count": 20,
   "metadata": {},
   "outputs": [],
   "source": [
    "city_nh = clean_city_data.loc[clean_city_data[\"Lat\"]>=0]\n",
    "city_sh = clean_city_data.loc[clean_city_data[\"Lat\"]< 0]"
   ]
  },
  {
   "cell_type": "markdown",
   "metadata": {},
   "source": [
    "####  Northern Hemisphere - Max Temp vs. Latitude Linear Regression"
   ]
  },
  {
   "cell_type": "code",
   "execution_count": 27,
   "metadata": {},
   "outputs": [
    {
     "name": "stdout",
     "output_type": "stream",
     "text": [
      "The r-squared is: 0.8127011703438985\n"
     ]
    },
    {
     "data": {
      "image/png": "[encoded data removed]",
      "text/plain": [
       "<Figure size 432x288 with 1 Axes>"
      ]
     },
     "metadata": {
      "needs_background": "light"
     },
     "output_type": "display_data"
    }
   ],
   "source": [
    "x_values = city_nh[\"Lat\"]\n",
    "y_values = city_nh[\"Max Temp\"]\n",
    "(slope, intercept, rvalue, pvalue, stderr) = linregress(x_values, y_values)\n",
    "regress_values = x_values * slope + intercept\n",
    "line_eq = \"y = \" + str(round(slope,2)) + \"x + \" + str(round(intercept,2))\n",
    "plt.scatter(x_values,y_values)\n",
    "plt.plot(x_values,regress_values,\"r-\")\n",
    "plt.annotate(line_eq,(6,10),fontsize=15,color=\"red\")\n",
    "plt.xlabel('Latitude')\n",
    "plt.ylabel('Max Temperature')\n",
    "print(f\"The r-squared is: {rvalue**2}\")\n",
    "\n",
    "\n",
    "#We can see from the regression that there is a strong correlation between latitude and temperature in the northern hemisphere.\n",
    "#As seen below, we start at 0 (Equator) and as we go farther and farther north (towards lat 80), the temperature drops. This is exactly what we would expecet to see."
   ]
  },
  {
   "cell_type": "markdown",
   "metadata": {},
   "source": [
    "####  Southern Hemisphere - Max Temp vs. Latitude Linear Regression"
   ]
  },
  {
   "cell_type": "code",
   "execution_count": 29,
   "metadata": {},
   "outputs": [
    {
     "name": "stdout",
     "output_type": "stream",
     "text": [
      "The r-squared is: 0.49286648684871154\n"
     ]
    },
    {
     "data": {
      "image/png": "[encoded data removed]",
      "text/plain": [
       "<Figure size 432x288 with 1 Axes>"
      ]
     },
     "metadata": {
      "needs_background": "light"
     },
     "output_type": "display_data"
    }
   ],
   "source": [
    "x_values = city_sh[\"Lat\"]\n",
    "y_values = city_sh[\"Max Temp\"]\n",
    "(slope, intercept, rvalue, pvalue, stderr) = linregress(x_values, y_values)\n",
    "regress_values = x_values * slope + intercept\n",
    "line_eq = \"y = \" + str(round(slope,2)) + \"x + \" + str(round(intercept,2))\n",
    "plt.scatter(x_values,y_values)\n",
    "plt.plot(x_values,regress_values,\"r-\")\n",
    "plt.annotate(line_eq,(-50,80),fontsize=15,color=\"red\")\n",
    "plt.xlabel('Latitude')\n",
    "plt.ylabel('Max Temperature')\n",
    "print(f\"The r-squared is: {rvalue**2}\")\n",
    "\n",
    "#We see similar results in the southern hemisphere, higher temps at the equator and it gets colder the farther south we go.\n",
    "#The only other thing we see here is that the correlation is weaker than it was for the northern hemisphere, meaning we see slightly more sparatic temperatures in the southern hemisphere.\n",
    "#It is possible this correlation difference is related to sample size, it looks like we pulled less cities in the southern hemisphere in our random data set."
   ]
  },
  {
   "cell_type": "markdown",
   "metadata": {},
   "source": [
    "####  Northern Hemisphere - Humidity (%) vs. Latitude Linear Regression"
   ]
  },
  {
   "cell_type": "code",
   "execution_count": 31,
   "metadata": {},
   "outputs": [
    {
     "name": "stdout",
     "output_type": "stream",
     "text": [
      "The r-squared is: 0.04293392297846189\n"
     ]
    },
    {
     "data": {
      "image/png": "[encoded data removed]",
      "text/plain": [
       "<Figure size 432x288 with 1 Axes>"
      ]
     },
     "metadata": {
      "needs_background": "light"
     },
     "output_type": "display_data"
    }
   ],
   "source": [
    "x_values = city_nh[\"Lat\"]\n",
    "y_values = city_nh[\"Humidity\"]\n",
    "(slope, intercept, rvalue, pvalue, stderr) = linregress(x_values, y_values)\n",
    "regress_values = x_values * slope + intercept\n",
    "line_eq = \"y = \" + str(round(slope,2)) + \"x + \" + str(round(intercept,2))\n",
    "plt.scatter(x_values,y_values)\n",
    "plt.plot(x_values,regress_values,\"r-\")\n",
    "plt.annotate(line_eq,(43,10),fontsize=15,color=\"red\")\n",
    "plt.xlabel('Latitude')\n",
    "plt.ylabel('Humidity')\n",
    "print(f\"The r-squared is: {rvalue**2}\")"
   ]
  },
  {
   "cell_type": "markdown",
   "metadata": {},
   "source": [
    "####  Southern Hemisphere - Humidity (%) vs. Latitude Linear Regression"
   ]
  },
  {
   "cell_type": "code",
   "execution_count": 32,
   "metadata": {},
   "outputs": [
    {
     "name": "stdout",
     "output_type": "stream",
     "text": [
      "The r-squared is: 0.009127899175468157\n"
     ]
    },
    {
     "data": {
      "image/png": "[encoded data removed]",
      "text/plain": [
       "<Figure size 432x288 with 1 Axes>"
      ]
     },
     "metadata": {
      "needs_background": "light"
     },
     "output_type": "display_data"
    }
   ],
   "source": [
    "x_values = city_sh[\"Lat\"]\n",
    "y_values = city_sh[\"Humidity\"]\n",
    "(slope, intercept, rvalue, pvalue, stderr) = linregress(x_values, y_values)\n",
    "regress_values = x_values * slope + intercept\n",
    "line_eq = \"y = \" + str(round(slope,2)) + \"x + \" + str(round(intercept,2))\n",
    "plt.scatter(x_values,y_values)\n",
    "plt.plot(x_values,regress_values,\"r-\")\n",
    "plt.annotate(line_eq,(-50,15),fontsize=15,color=\"red\")\n",
    "plt.xlabel('Latitude')\n",
    "plt.ylabel('Humidity')\n",
    "print(f\"The r-squared is: {rvalue**2}\")\n",
    "\n",
    "#the regressions for humidity vs latitude show us that the correlation between humidity and latitude are much weaker than temp vs lat.\n",
    "#Even though this is true we once again see a much stronger correlation in the northern hemisphere than we do in the southern hemisphere.\n",
    "#In fact the correlation in the southern hemishere is almost non existent as shown by our .009 r squared value."
   ]
  },
  {
   "cell_type": "markdown",
   "metadata": {},
   "source": [
    "####  Northern Hemisphere - Cloudiness (%) vs. Latitude Linear Regression"
   ]
  },
  {
   "cell_type": "code",
   "execution_count": 37,
   "metadata": {},
   "outputs": [
    {
     "name": "stdout",
     "output_type": "stream",
     "text": [
      "The r-squared is: 0.04632447529562466\n"
     ]
    },
    {
     "data": {
      "image/png": "[encoded data removed]",
      "text/plain": [
       "<Figure size 432x288 with 1 Axes>"
      ]
     },
     "metadata": {
      "needs_background": "light"
     },
     "output_type": "display_data"
    }
   ],
   "source": [
    "x_values = city_nh[\"Lat\"]\n",
    "y_values = city_nh[\"Cloudiness\"]\n",
    "(slope, intercept, rvalue, pvalue, stderr) = linregress(x_values, y_values)\n",
    "regress_values = x_values * slope + intercept\n",
    "line_eq = \"y = \" + str(round(slope,2)) + \"x + \" + str(round(intercept,2))\n",
    "plt.scatter(x_values,y_values)\n",
    "plt.plot(x_values,regress_values,\"r-\")\n",
    "plt.annotate(line_eq,(15,50),fontsize=15,color=\"red\")\n",
    "plt.xlabel('Latitude')\n",
    "plt.ylabel('Cloudiness')\n",
    "print(f\"The r-squared is: {rvalue**2}\")\n",
    "\n",
    "#The set of graphs above"
   ]
  },
  {
   "cell_type": "markdown",
   "metadata": {},
   "source": [
    "####  Southern Hemisphere - Cloudiness (%) vs. Latitude Linear Regression"
   ]
  },
  {
   "cell_type": "code",
   "execution_count": 39,
   "metadata": {},
   "outputs": [
    {
     "name": "stdout",
     "output_type": "stream",
     "text": [
      "The r-squared is: 0.009143363001931096\n"
     ]
    },
    {
     "data": {
      "image/png": "[encoded data removed]",
      "text/plain": [
       "<Figure size 432x288 with 1 Axes>"
      ]
     },
     "metadata": {
      "needs_background": "light"
     },
     "output_type": "display_data"
    }
   ],
   "source": [
    "x_values = city_sh[\"Lat\"]\n",
    "y_values = city_sh[\"Cloudiness\"]\n",
    "(slope, intercept, rvalue, pvalue, stderr) = linregress(x_values, y_values)\n",
    "regress_values = x_values * slope + intercept\n",
    "line_eq = \"y = \" + str(round(slope,2)) + \"x + \" + str(round(intercept,2))\n",
    "plt.scatter(x_values,y_values)\n",
    "plt.plot(x_values,regress_values,\"r-\")\n",
    "plt.annotate(line_eq,(-55,17),fontsize=15,color=\"red\")\n",
    "plt.xlabel('Latitude')\n",
    "plt.ylabel('Cloudiness')\n",
    "print(f\"The r-squared is: {rvalue**2}\")\n",
    "\n",
    "#Cloudiness vs lat is very similar to Humidty vs lat, the r-squared values are very similar for each regrssion. Telling us pretty much the same story.\n",
    "#This does raise the question what are these values correlated to.\n",
    "#I would want to see the correlation between humidity and cloudiness, my guess is there is a strong correlation there related more towards weather patterns and air currents than latitude, but at this point that is pure speculation."
   ]
  },
  {
   "cell_type": "markdown",
   "metadata": {},
   "source": [
    "####  Northern Hemisphere - Wind Speed (mph) vs. Latitude Linear Regression"
   ]
  },
  {
   "cell_type": "code",
   "execution_count": 41,
   "metadata": {},
   "outputs": [
    {
     "name": "stdout",
     "output_type": "stream",
     "text": [
      "The r-squared is: 0.0099169194152852\n"
     ]
    },
    {
     "data": {
      "image/png": "[encoded data removed]",
      "text/plain": [
       "<Figure size 432x288 with 1 Axes>"
      ]
     },
     "metadata": {
      "needs_background": "light"
     },
     "output_type": "display_data"
    }
   ],
   "source": [
    "x_values = city_nh[\"Lat\"]\n",
    "y_values = city_nh[\"Wind Speed\"]\n",
    "(slope, intercept, rvalue, pvalue, stderr) = linregress(x_values, y_values)\n",
    "regress_values = x_values * slope + intercept\n",
    "line_eq = \"y = \" + str(round(slope,2)) + \"x + \" + str(round(intercept,2))\n",
    "plt.scatter(x_values,y_values)\n",
    "plt.plot(x_values,regress_values,\"r-\")\n",
    "plt.annotate(line_eq,(5,30),fontsize=15,color=\"red\")\n",
    "plt.xlabel('Latitude')\n",
    "plt.ylabel('Wind Speed')\n",
    "print(f\"The r-squared is: {rvalue**2}\")"
   ]
  },
  {
   "cell_type": "markdown",
   "metadata": {},
   "source": [
    "####  Southern Hemisphere - Wind Speed (mph) vs. Latitude Linear Regression"
   ]
  },
  {
   "cell_type": "code",
   "execution_count": 43,
   "metadata": {},
   "outputs": [
    {
     "name": "stdout",
     "output_type": "stream",
     "text": [
      "The r-squared is: 0.13479632081763818\n"
     ]
    },
    {
     "data": {
      "image/png": "[encoded data removed]",
      "text/plain": [
       "<Figure size 432x288 with 1 Axes>"
      ]
     },
     "metadata": {
      "needs_background": "light"
     },
     "output_type": "display_data"
    }
   ],
   "source": [
    "x_values = city_sh[\"Lat\"]\n",
    "y_values = city_sh[\"Wind Speed\"]\n",
    "(slope, intercept, rvalue, pvalue, stderr) = linregress(x_values, y_values)\n",
    "regress_values = x_values * slope + intercept\n",
    "line_eq = \"y = \" + str(round(slope,2)) + \"x + \" + str(round(intercept,2))\n",
    "plt.scatter(x_values,y_values)\n",
    "plt.plot(x_values,regress_values,\"r-\")\n",
    "plt.annotate(line_eq,(-30,30),fontsize=15,color=\"red\")\n",
    "plt.xlabel('Latitude')\n",
    "plt.ylabel('Wind Speed')\n",
    "print(f\"The r-squared is: {rvalue**2}\")\n",
    "\n",
    "#the correlation from wind speed to latitude in the northern hemisphere is very weak, and it is only slightly stronger in the southern hemisphere.\n",
    "#We can see from the southern hemisphere graph that wind speed does tend to trend up the farther away we get from the equator.\n",
    "#Since these are latitudes for cities, I wonder if the correlation would look different accross longitudes outside of an urban area, say over the ocean?"
   ]
  },
  {
   "cell_type": "code",
   "execution_count": null,
   "metadata": {},
   "outputs": [],
   "source": []
  }
 ],
 "metadata": {
  "anaconda-cloud": {},
  "kernel_info": {
   "name": "python3"
  },
  "kernelspec": {
   "display_name": "Python 3",
   "language": "python",
   "name": "python3"
  },
  "language_info": {
   "codemirror_mode": {
    "name": "ipython",
    "version": 3
   },
   "file_extension": ".py",
   "mimetype": "text/x-python",
   "name": "python",
   "nbconvert_exporter": "python",
   "pygments_lexer": "ipython3",
   "version": "3.8.5"
  },
  "latex_envs": {
   "LaTeX_envs_menu_present": true,
   "autoclose": false,
   "autocomplete": true,
   "bibliofile": "biblio.bib",
   "cite_by": "apalike",
   "current_citInitial": 1,
   "eqLabelWithNumbers": true,
   "eqNumInitial": 1,
   "hotkeys": {
    "equation": "Ctrl-E",
    "itemize": "Ctrl-I"
   },
   "labels_anchors": false,
   "latex_user_defs": false,
   "report_style_numbering": false,
   "user_envs_cfg": false
  },
  "nteract": {
   "version": "0.12.3"
  }
 },
 "nbformat": 4,
 "nbformat_minor": 2
}
